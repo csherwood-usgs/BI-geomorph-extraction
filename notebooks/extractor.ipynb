{
 "cells": [
  {
   "cell_type": "markdown",
   "metadata": {},
   "source": [
    "# Extract barrier island metrics along transects\n",
    "\n",
    "Author: Emily Sturdivant, esturdivant@usgs.gov\n",
    "\n",
    "***\n",
    "\n",
    "Extract barrier island metrics along transects for Barrier Island Geomorphology Bayesian Network. See the project [README](https://github.com/esturdivant-usgs/BI-geomorph-extraction/blob/master/README.md) and the Methods Report (Zeigler et al., in review). \n",
    "\n",
    "\n",
    "## Pre-requisites:\n",
    "- All the input layers (transects, shoreline, etc.) must be ready. This is performed with the notebook file prepper.ipynb.\n",
    "- The files servars.py and configmap.py may need to be updated for the current dataset.\n",
    "\n",
    "## Notes:\n",
    "- This notebook includes interactive quality checking, which requires the user's attention. For thorough QC'ing, we recommend displaying the layers in ArcGIS, especially to confirm the integrity of values for variables such as distance to inlet (__Dist2Inlet__) and widths of the landmass (__WidthPart__, etc.). \n",
    "\n",
    "\n",
    "***\n",
    "\n",
    "## Import modules"
   ]
  },
  {
   "cell_type": "code",
   "execution_count": 1,
   "metadata": {
    "collapsed": true
   },
   "outputs": [],
   "source": [
    "import os\n",
    "import sys\n",
    "import pandas as pd\n",
    "import numpy as np\n",
    "import arcpy\n",
    "import matplotlib.pyplot as plt\n",
    "import matplotlib\n",
    "matplotlib.style.use('ggplot')\n",
    "import core.functions_warcpy as fwa\n",
    "import core.functions as fun"
   ]
  },
  {
   "cell_type": "markdown",
   "metadata": {},
   "source": [
    "### Initialize variables\n",
    "\n",
    "This cell will prompt you for your site (from a list), a year (from a list), and the path to the folder that contains your `.gdb` project directory. Also, change the filename variables in the next cell to match your local files. They should be in a Esri file geodatabase named site+year.gdb in your project directory, which will be the value of the variable `home`. You probably created some of them with `prepper.ipynb`.\n",
    "\n",
    "Input the site, year, and project directory path. `setvars.py` retrieves the pre-determined values for that site in that year from `configmap.py`. The project directory will be used to set up your workspace. It's hidden for security – sorry! I recommend that you type the path somewhere and paste it in."
   ]
  },
  {
   "cell_type": "code",
   "execution_count": 2,
   "metadata": {
    "scrolled": true
   },
   "outputs": [
    {
     "name": "stdout",
     "output_type": "stream",
     "text": [
      "site (options: Cedar, Smith, Fisherman, Assateague, ParkerRiver, Monomoy, CoastGuard, Forsythe, FireIsland, Rockaway, CapeLookout): CoastGuard\n",
      "year (options: 2010, 2012, 2014): 2014\n",
      "Path to project directory (e.g. \\\\Mac\u000b",
      "olume\\dir\\FireIsland2014): ········\n",
      "setvars.py initialized variables.\n"
     ]
    }
   ],
   "source": [
    "from core.setvars import *\n",
    "\n",
    "extendedTrans = os.path.join(home, 'CoastGuard2014_extTrans')\n",
    "extTrans_tidy = os.path.join(home, 'CoastGuard2014_tidyTrans')\n",
    "\n",
    "ShorelinePts = os.path.join(home, 'CoastGuard2014_SLpts')\n",
    "dlPts = os.path.join(home, 'CoastGuard2014_DLpts')\n",
    "dhPts = os.path.join(home, 'CoastGuard2014_DHpts')\n",
    "\n",
    "barrierBoundary = os.path.join(home, 'CoastGuard2014_bndpoly_2sl')  \n",
    "shoreline = os.path.join(home, 'ShoreBetweenInlets') # will be created\n",
    "\n",
    "inletLines = os.path.join(home, 'CoastGuard2014_inletLines')\n",
    "\n",
    "elevGrid = os.path.join(home, 'CoastGuard2014_DEM_5m')\n",
    "slopeGrid = os.path.join(home, 'slope_5m')   # Slope in 5 m grids; will be created\n",
    "# These are optional, but need to be commented out if not to be used\n",
    "#SubType = os.path.join(home, 'SubType')\n",
    "#VegType = os.path.join(home, 'VegType')\n",
    "#VegDens = os.path.join(home, 'VegDen')\n",
    "# GeoSet = os.path.join(home, 'GeoSet')\n",
    "# DisMOSH = os.path.join(home, 'DisMOSH')\n",
    "\n",
    "# This caused an error in the next code cell because the file did not exist.\n",
    "# Maybe add a check for all required files before starting processing.\n",
    "# tr_w_anthro = os.path.join(home, 'extTrans_wAnthro')\n",
    "\n",
    "# Optional\n",
    "SA_bounds = os.path.join(home, 'SA_bounds')\n",
    "armorLines = os.path.join(home, 'armorLines')"
   ]
  },
  {
   "cell_type": "markdown",
   "metadata": {},
   "source": [
    "## Transect-averaged values\n",
    "We work with the shapefile/feature class as a pandas DataFrame as much as possible to speed processing and minimize reliance on the ArcGIS GUI display.\n",
    "\n",
    "1. Create a pandas dataframe from the transects feature class. In the process, we remove some of the unnecessary fields. The resulting dataframe is indexed by __sort_ID__ with columns corresponding to the attribute fields in the transects feature class. \n",
    "2. Add __DD_ID__.\n",
    "3. Join the values from the transect file that includes the three anthropologic development fields, __Construction__,  __Development__, and __Nourishment__. "
   ]
  },
  {
   "cell_type": "code",
   "execution_count": 28,
   "metadata": {},
   "outputs": [
    {
     "name": "stdout",
     "output_type": "stream",
     "text": [
      "...converting feature class to array...\n",
      "...converting array to dataframe...\n",
      "\n",
      "Header of transects dataframe (rows 1-5 out of 158): \n"
     ]
    },
    {
     "data": {
      "text/html": [
       "<div>\n",
       "<style>\n",
       "    .dataframe thead tr:only-child th {\n",
       "        text-align: right;\n",
       "    }\n",
       "\n",
       "    .dataframe thead th {\n",
       "        text-align: left;\n",
       "    }\n",
       "\n",
       "    .dataframe tbody tr th {\n",
       "        vertical-align: top;\n",
       "    }\n",
       "</style>\n",
       "<table border=\"1\" class=\"dataframe\">\n",
       "  <thead>\n",
       "    <tr style=\"text-align: right;\">\n",
       "      <th></th>\n",
       "      <th>AZIMUTH</th>\n",
       "      <th>LRR</th>\n",
       "      <th>TRANSECTID</th>\n",
       "      <th>TRANSORDER</th>\n",
       "      <th>sort_ID</th>\n",
       "      <th>DD_ID</th>\n",
       "    </tr>\n",
       "    <tr>\n",
       "      <th>sort_ID</th>\n",
       "      <th></th>\n",
       "      <th></th>\n",
       "      <th></th>\n",
       "      <th></th>\n",
       "      <th></th>\n",
       "      <th></th>\n",
       "    </tr>\n",
       "  </thead>\n",
       "  <tbody>\n",
       "    <tr>\n",
       "      <th>1</th>\n",
       "      <td>261.67</td>\n",
       "      <td>0.61</td>\n",
       "      <td>625.0</td>\n",
       "      <td>628.0</td>\n",
       "      <td>1</td>\n",
       "      <td>50001</td>\n",
       "    </tr>\n",
       "    <tr>\n",
       "      <th>2</th>\n",
       "      <td>261.67</td>\n",
       "      <td>0.70</td>\n",
       "      <td>626.0</td>\n",
       "      <td>629.0</td>\n",
       "      <td>2</td>\n",
       "      <td>50002</td>\n",
       "    </tr>\n",
       "    <tr>\n",
       "      <th>3</th>\n",
       "      <td>261.67</td>\n",
       "      <td>0.73</td>\n",
       "      <td>627.0</td>\n",
       "      <td>630.0</td>\n",
       "      <td>3</td>\n",
       "      <td>50003</td>\n",
       "    </tr>\n",
       "    <tr>\n",
       "      <th>4</th>\n",
       "      <td>261.67</td>\n",
       "      <td>-1.26</td>\n",
       "      <td>628.0</td>\n",
       "      <td>631.0</td>\n",
       "      <td>4</td>\n",
       "      <td>50004</td>\n",
       "    </tr>\n",
       "    <tr>\n",
       "      <th>5</th>\n",
       "      <td>261.67</td>\n",
       "      <td>-1.28</td>\n",
       "      <td>629.0</td>\n",
       "      <td>632.0</td>\n",
       "      <td>5</td>\n",
       "      <td>50005</td>\n",
       "    </tr>\n",
       "  </tbody>\n",
       "</table>\n",
       "</div>"
      ],
      "text/plain": [
       "         AZIMUTH   LRR  TRANSECTID  TRANSORDER  sort_ID  DD_ID\n",
       "sort_ID                                                       \n",
       "1         261.67  0.61       625.0       628.0        1  50001\n",
       "2         261.67  0.70       626.0       629.0        2  50002\n",
       "3         261.67  0.73       627.0       630.0        3  50003\n",
       "4         261.67 -1.26       628.0       631.0        4  50004\n",
       "5         261.67 -1.28       629.0       632.0        5  50005"
      ]
     },
     "execution_count": 28,
     "metadata": {},
     "output_type": "execute_result"
    }
   ],
   "source": [
    "# Copy feature class to dataframe.\n",
    "trans_df = fwa.FCtoDF(extendedTrans, id_fld=tID_fld, extra_fields=extra_fields)\n",
    "trans_df['DD_ID'] = trans_df[tID_fld] + sitevals['id_init_val']\n",
    "\n",
    "# Get anthro fields and join to DF\n",
    "if 'tr_w_anthro' in locals():\n",
    "    trdf_anthro = fwa.FCtoDF(tr_w_anthro, id_fld=tID_fld, dffields=['Development', 'Nourishment','Construction'])\n",
    "    trans_df = fun.join_columns(trans_df, trdf_anthro) \n",
    "\n",
    "# Save\n",
    "trans_df.to_pickle(os.path.join(scratch_dir, 'trans_df.pkl'))\n",
    "\n",
    "# Display\n",
    "print(\"\\nHeader of transects dataframe (rows 1-5 out of {}): \".format(len(trans_df)))\n",
    "trans_df.head()"
   ]
  },
  {
   "cell_type": "markdown",
   "metadata": {},
   "source": [
    "### Add XY and Z/slope from SL, DH, DL points within 25 m of transects\n",
    "Add to each transect row the positions of the nearest pre-created beach geomorphic features (shoreline, dune toe, and dune crest).\n",
    "\n",
    "#### Shoreline\n",
    "\n",
    "The MHW shoreline easting and northing (__SL_x__, __SL_y__) are the coordinates of the intersection of the oceanside shoreline with the transect. Each transect is assigned the foreshore slope (__Bslope__) from the nearest shoreline point within 25 m. These values are populated for each transect as follows: \n",
    "1. get __SL_x__ and __SL_y__ at the point where the transect crosses the oceanside shoreline; \n",
    "2. find the closest shoreline point to the intersection point (must be within 25 m) and copy the slope value from the point to the transect in the field __Bslope__."
   ]
  },
  {
   "cell_type": "code",
   "execution_count": 30,
   "metadata": {},
   "outputs": [
    {
     "name": "stdout",
     "output_type": "stream",
     "text": [
      "Splitting CoastGuard2014_bndpoly_2sl at inlets...\n",
      "Preserving only those line segments that intersect shoreline points...\n",
      "Dissolving the line to create ShoreBetweenInlets...\n",
      "\n",
      "Matching shoreline points to transects...\n",
      "Using field 'slope' as slope.\n",
      "...duration at transect 100: 0:0:7.0 seconds\n",
      "Duration: 0:0:10.9 seconds\n"
     ]
    },
    {
     "data": {
      "text/html": [
       "<div>\n",
       "<style>\n",
       "    .dataframe thead tr:only-child th {\n",
       "        text-align: right;\n",
       "    }\n",
       "\n",
       "    .dataframe thead th {\n",
       "        text-align: left;\n",
       "    }\n",
       "\n",
       "    .dataframe tbody tr th {\n",
       "        vertical-align: top;\n",
       "    }\n",
       "</style>\n",
       "<table border=\"1\" class=\"dataframe\">\n",
       "  <thead>\n",
       "    <tr style=\"text-align: right;\">\n",
       "      <th></th>\n",
       "      <th>SL_x</th>\n",
       "      <th>SL_y</th>\n",
       "      <th>Bslope</th>\n",
       "    </tr>\n",
       "    <tr>\n",
       "      <th>sort_ID</th>\n",
       "      <th></th>\n",
       "      <th></th>\n",
       "      <th></th>\n",
       "    </tr>\n",
       "  </thead>\n",
       "  <tbody>\n",
       "    <tr>\n",
       "      <th>84</th>\n",
       "      <td>421553.716443</td>\n",
       "      <td>4.632174e+06</td>\n",
       "      <td>-0.1036</td>\n",
       "    </tr>\n",
       "    <tr>\n",
       "      <th>121</th>\n",
       "      <td>421206.821155</td>\n",
       "      <td>4.633952e+06</td>\n",
       "      <td>-0.080994</td>\n",
       "    </tr>\n",
       "    <tr>\n",
       "      <th>36</th>\n",
       "      <td>421983.766168</td>\n",
       "      <td>4.629812e+06</td>\n",
       "      <td>-0.071255</td>\n",
       "    </tr>\n",
       "    <tr>\n",
       "      <th>128</th>\n",
       "      <td>421118.468156</td>\n",
       "      <td>4.634291e+06</td>\n",
       "      <td>-0.071506</td>\n",
       "    </tr>\n",
       "    <tr>\n",
       "      <th>99</th>\n",
       "      <td>421431.025014</td>\n",
       "      <td>4.632914e+06</td>\n",
       "      <td>-0.10763</td>\n",
       "    </tr>\n",
       "  </tbody>\n",
       "</table>\n",
       "</div>"
      ],
      "text/plain": [
       "                  SL_x          SL_y      Bslope\n",
       "sort_ID                                         \n",
       "84       421553.716443  4.632174e+06     -0.1036\n",
       "121      421206.821155  4.633952e+06   -0.080994\n",
       "36       421983.766168  4.629812e+06   -0.071255\n",
       "128      421118.468156  4.634291e+06   -0.071506\n",
       "99       421431.025014  4.632914e+06    -0.10763"
      ]
     },
     "execution_count": 30,
     "metadata": {},
     "output_type": "execute_result"
    }
   ],
   "source": [
    "if not arcpy.Exists(shoreline):\n",
    "    shoreline = fwa.CreateShoreBetweenInlets(barrierBoundary, inletLines, shoreline, ShorelinePts, proj_code, SA_bounds)\n",
    "\n",
    "# Get the XY position where transect crosses the oceanside shoreline\n",
    "sl2trans_df = fwa.add_shorelinePts2Trans(extendedTrans, ShorelinePts, shoreline, \n",
    "                                         tID_fld, proximity=pt2trans_disttolerance)\n",
    "\n",
    "# Save and print sample\n",
    "sl2trans_df.to_pickle(os.path.join(scratch_dir, 'sl2trans.pkl'))\n",
    "sl2trans_df.sample(5)"
   ]
  },
  {
   "cell_type": "markdown",
   "metadata": {},
   "source": [
    "#### Dune positions along transects\n",
    "\n",
    "__DL_x__, __DL_y__, and __DL_z__ are the easting, northing, and elevation, respectively, of the nearest dune toe point within 25 meters of the transect. __DH_x__, __DH_y__, and __DH_z__ are the easting, northing, and elevation, respectively, of the nearest dune crest point within 25 meters. \n",
    "\n",
    "__DL_snapX__, __DL_snapY__, __DH_snapX__, and __DH_snapY__ are the eastings and northings of the points \"snapped\" to the transect. \"Snapping\" finds the position along the transect nearest to the point, i.e. orthogonal to the transect. These values are used to find the beach width. The elevation values are not snapped; we use the elevation values straight from the original points. \n",
    "\n",
    "These values are populated as follows: \n",
    "\n",
    "1. Find the nearest dune crest/toe point to the transect and proceed if the distance is less than 25 m. If there are no points within 25 m of the transect, populate the row with Null values.\n",
    "2. Get the X, Y, and Z values of the point. \n",
    "3. Find the position along the transect of an orthogonal line drawn to the dune point (__DL_snapX__, __DL_snapY__, __DH_snapX__, and __DH_snapY__). This is considered the 'snapped' XY position and is calculated using the arcpy geometry method. "
   ]
  },
  {
   "cell_type": "code",
   "execution_count": 31,
   "metadata": {},
   "outputs": [
    {
     "name": "stdout",
     "output_type": "stream",
     "text": [
      "\n",
      "Matching dune points with transects:\n",
      "Using field 'dhigh_z' as DH Z field...\n",
      "Using field 'dlow_z' as DL Z field...\n",
      "Looping through transects and dune points to find nearest point within 25 m...\n",
      "...duration at transect 100: 0:0:9.7 seconds\n",
      "Duration: 0:0:15.0 seconds\n"
     ]
    },
    {
     "data": {
      "text/html": [
       "<div>\n",
       "<style>\n",
       "    .dataframe thead tr:only-child th {\n",
       "        text-align: right;\n",
       "    }\n",
       "\n",
       "    .dataframe thead th {\n",
       "        text-align: left;\n",
       "    }\n",
       "\n",
       "    .dataframe tbody tr th {\n",
       "        vertical-align: top;\n",
       "    }\n",
       "</style>\n",
       "<table border=\"1\" class=\"dataframe\">\n",
       "  <thead>\n",
       "    <tr style=\"text-align: right;\">\n",
       "      <th></th>\n",
       "      <th>DH_x</th>\n",
       "      <th>DH_y</th>\n",
       "      <th>DH_z</th>\n",
       "      <th>DH_snapX</th>\n",
       "      <th>DH_snapY</th>\n",
       "      <th>DL_x</th>\n",
       "      <th>DL_y</th>\n",
       "      <th>DL_z</th>\n",
       "      <th>DL_snapX</th>\n",
       "      <th>DL_snapY</th>\n",
       "    </tr>\n",
       "    <tr>\n",
       "      <th>sort_ID</th>\n",
       "      <th></th>\n",
       "      <th></th>\n",
       "      <th></th>\n",
       "      <th></th>\n",
       "      <th></th>\n",
       "      <th></th>\n",
       "      <th></th>\n",
       "      <th></th>\n",
       "      <th></th>\n",
       "      <th></th>\n",
       "    </tr>\n",
       "  </thead>\n",
       "  <tbody>\n",
       "    <tr>\n",
       "      <th>15</th>\n",
       "      <td>422011.292947</td>\n",
       "      <td>4.628750e+06</td>\n",
       "      <td>5.387449</td>\n",
       "      <td>422010.650220</td>\n",
       "      <td>4.628754e+06</td>\n",
       "      <td>422036.397646</td>\n",
       "      <td>4.628763e+06</td>\n",
       "      <td>2.873084</td>\n",
       "      <td>422037.034800</td>\n",
       "      <td>4.628758e+06</td>\n",
       "    </tr>\n",
       "    <tr>\n",
       "      <th>98</th>\n",
       "      <td>421393.201804</td>\n",
       "      <td>4.632862e+06</td>\n",
       "      <td>7.013226</td>\n",
       "      <td>421393.692797</td>\n",
       "      <td>4.632858e+06</td>\n",
       "      <td>421411.533087</td>\n",
       "      <td>4.632866e+06</td>\n",
       "      <td>4.203151</td>\n",
       "      <td>421412.204075</td>\n",
       "      <td>4.632861e+06</td>\n",
       "    </tr>\n",
       "    <tr>\n",
       "      <th>57</th>\n",
       "      <td>421840.783064</td>\n",
       "      <td>4.630851e+06</td>\n",
       "      <td>2.586144</td>\n",
       "      <td>421840.624296</td>\n",
       "      <td>4.630852e+06</td>\n",
       "      <td>NaN</td>\n",
       "      <td>NaN</td>\n",
       "      <td>NaN</td>\n",
       "      <td>NaN</td>\n",
       "      <td>NaN</td>\n",
       "    </tr>\n",
       "    <tr>\n",
       "      <th>144</th>\n",
       "      <td>420898.358864</td>\n",
       "      <td>4.635057e+06</td>\n",
       "      <td>18.676974</td>\n",
       "      <td>420897.439406</td>\n",
       "      <td>4.635060e+06</td>\n",
       "      <td>420919.134317</td>\n",
       "      <td>4.635061e+06</td>\n",
       "      <td>3.476305</td>\n",
       "      <td>420918.005306</td>\n",
       "      <td>4.635066e+06</td>\n",
       "    </tr>\n",
       "    <tr>\n",
       "      <th>101</th>\n",
       "      <td>421369.011290</td>\n",
       "      <td>4.633010e+06</td>\n",
       "      <td>6.263039</td>\n",
       "      <td>421369.526542</td>\n",
       "      <td>4.633006e+06</td>\n",
       "      <td>421377.565889</td>\n",
       "      <td>4.633012e+06</td>\n",
       "      <td>4.123700</td>\n",
       "      <td>421378.165138</td>\n",
       "      <td>4.633008e+06</td>\n",
       "    </tr>\n",
       "  </tbody>\n",
       "</table>\n",
       "</div>"
      ],
      "text/plain": [
       "                  DH_x          DH_y       DH_z       DH_snapX      DH_snapY  \\\n",
       "sort_ID                                                                        \n",
       "15       422011.292947  4.628750e+06   5.387449  422010.650220  4.628754e+06   \n",
       "98       421393.201804  4.632862e+06   7.013226  421393.692797  4.632858e+06   \n",
       "57       421840.783064  4.630851e+06   2.586144  421840.624296  4.630852e+06   \n",
       "144      420898.358864  4.635057e+06  18.676974  420897.439406  4.635060e+06   \n",
       "101      421369.011290  4.633010e+06   6.263039  421369.526542  4.633006e+06   \n",
       "\n",
       "                  DL_x          DL_y      DL_z       DL_snapX      DL_snapY  \n",
       "sort_ID                                                                      \n",
       "15       422036.397646  4.628763e+06  2.873084  422037.034800  4.628758e+06  \n",
       "98       421411.533087  4.632866e+06  4.203151  421412.204075  4.632861e+06  \n",
       "57                 NaN           NaN       NaN            NaN           NaN  \n",
       "144      420919.134317  4.635061e+06  3.476305  420918.005306  4.635066e+06  \n",
       "101      421377.565889  4.633012e+06  4.123700  421378.165138  4.633008e+06  "
      ]
     },
     "execution_count": 31,
     "metadata": {},
     "output_type": "execute_result"
    }
   ],
   "source": [
    "# Create dataframe for both dune crest and dune toe positions\n",
    "dune2trans_df = fwa.find_ClosestPt2Trans_snap(extendedTrans, dhPts, dlPts, trans_df, \n",
    "                                          tID_fld, proximity=pt2trans_disttolerance)\n",
    "\n",
    "# Save and print sample\n",
    "dune2trans_df.to_pickle(os.path.join(scratch_dir, 'dune2trans.pkl'))\n",
    "dune2trans_df.sample(5)"
   ]
  },
  {
   "cell_type": "markdown",
   "metadata": {},
   "source": [
    "#### Armoring\n",
    "__Arm_x__, __Arm_y__, and __Arm_z__ are the easting, northing, and elevation, respectively, where an artificial structure crosses the transect in the vicinity of the beach. These features are meant to supplement the dune toe data set by providing an upper limit to the beach in areas where dune toe extraction was confounded by the presence of an artificial structure. Values are populated for each transect as follows: \n",
    "\n",
    "1. Get the positions of intersection between the digitized armoring lines and the transects (Intersect tool from the Overlay toolset); \n",
    "2. Extract the elevation value at each intersection point from the DEM (Extract Multi Values to Points tool from Spatial Analyst); "
   ]
  },
  {
   "cell_type": "code",
   "execution_count": 32,
   "metadata": {},
   "outputs": [
    {
     "name": "stdout",
     "output_type": "stream",
     "text": [
      "OUTPUT: CoastGuard2014_DEM_5m_5m at 5x5 resolution.\n",
      "\n",
      "Armoring file either missing or empty so we will proceed without armoring data. If shorefront tampering is present at this site, cancel the operations to digitize.\n"
     ]
    },
    {
     "ename": "ValueError",
     "evalue": "a must be greater than 0",
     "output_type": "error",
     "traceback": [
      "\u001b[1;31m---------------------------------------------------------------------------\u001b[0m",
      "\u001b[1;31mValueError\u001b[0m                                Traceback (most recent call last)",
      "\u001b[1;32m<ipython-input-32-060aa7be2f7e>\u001b[0m in \u001b[0;36m<module>\u001b[1;34m()\u001b[0m\n\u001b[0;32m      8\u001b[0m     \u001b[1;31m# Save and print sample\u001b[0m\u001b[1;33m\u001b[0m\u001b[1;33m\u001b[0m\u001b[0m\n\u001b[0;32m      9\u001b[0m     \u001b[0marm2trans_df\u001b[0m\u001b[1;33m.\u001b[0m\u001b[0mto_pickle\u001b[0m\u001b[1;33m(\u001b[0m\u001b[0mos\u001b[0m\u001b[1;33m.\u001b[0m\u001b[0mpath\u001b[0m\u001b[1;33m.\u001b[0m\u001b[0mjoin\u001b[0m\u001b[1;33m(\u001b[0m\u001b[0mscratch_dir\u001b[0m\u001b[1;33m,\u001b[0m \u001b[1;34m'arm2trans.pkl'\u001b[0m\u001b[1;33m)\u001b[0m\u001b[1;33m)\u001b[0m\u001b[1;33m\u001b[0m\u001b[0m\n\u001b[1;32m---> 10\u001b[1;33m     \u001b[0marm2trans_df\u001b[0m\u001b[1;33m.\u001b[0m\u001b[0msample\u001b[0m\u001b[1;33m(\u001b[0m\u001b[1;36m5\u001b[0m\u001b[1;33m)\u001b[0m\u001b[1;33m\u001b[0m\u001b[0m\n\u001b[0m\u001b[0;32m     11\u001b[0m \u001b[1;33m\u001b[0m\u001b[0m\n\u001b[0;32m     12\u001b[0m \u001b[1;31m# This did not work because the armorLines file was empty.\u001b[0m\u001b[1;33m\u001b[0m\u001b[1;33m\u001b[0m\u001b[0m\n",
      "\u001b[1;32mC:\\ArcGIS\\Pro\\bin\\Python\\envs\\arcgispro-py3\\lib\\site-packages\\pandas\\core\\generic.py\u001b[0m in \u001b[0;36msample\u001b[1;34m(self, n, frac, replace, weights, random_state, axis)\u001b[0m\n\u001b[0;32m   2898\u001b[0m                              \"provide positive value.\")\n\u001b[0;32m   2899\u001b[0m \u001b[1;33m\u001b[0m\u001b[0m\n\u001b[1;32m-> 2900\u001b[1;33m         \u001b[0mlocs\u001b[0m \u001b[1;33m=\u001b[0m \u001b[0mrs\u001b[0m\u001b[1;33m.\u001b[0m\u001b[0mchoice\u001b[0m\u001b[1;33m(\u001b[0m\u001b[0maxis_length\u001b[0m\u001b[1;33m,\u001b[0m \u001b[0msize\u001b[0m\u001b[1;33m=\u001b[0m\u001b[0mn\u001b[0m\u001b[1;33m,\u001b[0m \u001b[0mreplace\u001b[0m\u001b[1;33m=\u001b[0m\u001b[0mreplace\u001b[0m\u001b[1;33m,\u001b[0m \u001b[0mp\u001b[0m\u001b[1;33m=\u001b[0m\u001b[0mweights\u001b[0m\u001b[1;33m)\u001b[0m\u001b[1;33m\u001b[0m\u001b[0m\n\u001b[0m\u001b[0;32m   2901\u001b[0m         \u001b[1;32mreturn\u001b[0m \u001b[0mself\u001b[0m\u001b[1;33m.\u001b[0m\u001b[0mtake\u001b[0m\u001b[1;33m(\u001b[0m\u001b[0mlocs\u001b[0m\u001b[1;33m,\u001b[0m \u001b[0maxis\u001b[0m\u001b[1;33m=\u001b[0m\u001b[0maxis\u001b[0m\u001b[1;33m,\u001b[0m \u001b[0mis_copy\u001b[0m\u001b[1;33m=\u001b[0m\u001b[1;32mFalse\u001b[0m\u001b[1;33m)\u001b[0m\u001b[1;33m\u001b[0m\u001b[0m\n\u001b[0;32m   2902\u001b[0m \u001b[1;33m\u001b[0m\u001b[0m\n",
      "\u001b[1;32mmtrand.pyx\u001b[0m in \u001b[0;36mmtrand.RandomState.choice (numpy\\random\\mtrand\\mtrand.c:17104)\u001b[1;34m()\u001b[0m\n",
      "\u001b[1;31mValueError\u001b[0m: a must be greater than 0"
     ]
    }
   ],
   "source": [
    "# Create elevation raster at 5-m resolution if not already\n",
    "elevGrid = fwa.ProcessDEM(elevGrid, utmSR)\n",
    "\n",
    "# Armoring line\n",
    "if 'armorLines' in locals():\n",
    "    arm2trans_df = fwa.ArmorLineToTrans_PD(extendedTrans, armorLines, sl2trans_df, tID_fld, proj_code, elevGrid)\n",
    "\n",
    "    # Save and print sample\n",
    "    arm2trans_df.to_pickle(os.path.join(scratch_dir, 'arm2trans.pkl'))\n",
    "    arm2trans_df.sample(5)\n",
    "    \n",
    "# This did not work because the armorLines file was empty."
   ]
  },
  {
   "cell_type": "markdown",
   "metadata": {},
   "source": [
    "### Add all the positions to the trans_df\n",
    "Join the new dataframes to the transect dataframe. Before it performs the join, `join_columns_id_check()` checks the index and the ID field for potential errors such as whether they are the equal and whether there are duplicated IDs or null values in either."
   ]
  },
  {
   "cell_type": "code",
   "execution_count": 33,
   "metadata": {
    "collapsed": true
   },
   "outputs": [],
   "source": [
    "# Load saved dataframes\n",
    "trans_df = pd.read_pickle(os.path.join(scratch_dir, 'trans_df.pkl'))\n",
    "sl2trans_df = pd.read_pickle(os.path.join(scratch_dir, 'sl2trans.pkl'))\n",
    "dune2trans_df = pd.read_pickle(os.path.join(scratch_dir, 'dune2trans.pkl'))\n",
    "arm2trans_df = pd.read_pickle(os.path.join(scratch_dir, 'arm2trans.pkl'))"
   ]
  },
  {
   "cell_type": "code",
   "execution_count": 34,
   "metadata": {
    "scrolled": false
   },
   "outputs": [
    {
     "data": {
      "text/html": [
       "<div>\n",
       "<style>\n",
       "    .dataframe thead tr:only-child th {\n",
       "        text-align: right;\n",
       "    }\n",
       "\n",
       "    .dataframe thead th {\n",
       "        text-align: left;\n",
       "    }\n",
       "\n",
       "    .dataframe tbody tr th {\n",
       "        vertical-align: top;\n",
       "    }\n",
       "</style>\n",
       "<table border=\"1\" class=\"dataframe\">\n",
       "  <thead>\n",
       "    <tr style=\"text-align: right;\">\n",
       "      <th></th>\n",
       "      <th>AZIMUTH</th>\n",
       "      <th>LRR</th>\n",
       "      <th>TRANSECTID</th>\n",
       "      <th>TRANSORDER</th>\n",
       "      <th>DD_ID</th>\n",
       "      <th>SL_x</th>\n",
       "      <th>SL_y</th>\n",
       "      <th>Bslope</th>\n",
       "      <th>DH_x</th>\n",
       "      <th>DH_y</th>\n",
       "      <th>...</th>\n",
       "      <th>DH_snapX</th>\n",
       "      <th>DH_snapY</th>\n",
       "      <th>DL_x</th>\n",
       "      <th>DL_y</th>\n",
       "      <th>DL_z</th>\n",
       "      <th>DL_snapX</th>\n",
       "      <th>DL_snapY</th>\n",
       "      <th>Arm_x</th>\n",
       "      <th>Arm_y</th>\n",
       "      <th>Arm_z</th>\n",
       "    </tr>\n",
       "    <tr>\n",
       "      <th>sort_ID</th>\n",
       "      <th></th>\n",
       "      <th></th>\n",
       "      <th></th>\n",
       "      <th></th>\n",
       "      <th></th>\n",
       "      <th></th>\n",
       "      <th></th>\n",
       "      <th></th>\n",
       "      <th></th>\n",
       "      <th></th>\n",
       "      <th></th>\n",
       "      <th></th>\n",
       "      <th></th>\n",
       "      <th></th>\n",
       "      <th></th>\n",
       "      <th></th>\n",
       "      <th></th>\n",
       "      <th></th>\n",
       "      <th></th>\n",
       "      <th></th>\n",
       "      <th></th>\n",
       "    </tr>\n",
       "  </thead>\n",
       "  <tbody>\n",
       "    <tr>\n",
       "      <th>45</th>\n",
       "      <td>NaN</td>\n",
       "      <td>NaN</td>\n",
       "      <td>NaN</td>\n",
       "      <td>NaN</td>\n",
       "      <td>50045</td>\n",
       "      <td>421930.611029</td>\n",
       "      <td>4.630260e+06</td>\n",
       "      <td>NaN</td>\n",
       "      <td>421893.892677</td>\n",
       "      <td>4.630259e+06</td>\n",
       "      <td>...</td>\n",
       "      <td>421894.475215</td>\n",
       "      <td>4.630255e+06</td>\n",
       "      <td>421907.335618</td>\n",
       "      <td>4.630262e+06</td>\n",
       "      <td>2.700916</td>\n",
       "      <td>421908.050151</td>\n",
       "      <td>4.630257e+06</td>\n",
       "      <td>NaN</td>\n",
       "      <td>NaN</td>\n",
       "      <td>NaN</td>\n",
       "    </tr>\n",
       "    <tr>\n",
       "      <th>67</th>\n",
       "      <td>261.67</td>\n",
       "      <td>-0.92</td>\n",
       "      <td>691.0</td>\n",
       "      <td>694.0</td>\n",
       "      <td>50067</td>\n",
       "      <td>NaN</td>\n",
       "      <td>NaN</td>\n",
       "      <td>NaN</td>\n",
       "      <td>NaN</td>\n",
       "      <td>NaN</td>\n",
       "      <td>...</td>\n",
       "      <td>NaN</td>\n",
       "      <td>NaN</td>\n",
       "      <td>NaN</td>\n",
       "      <td>NaN</td>\n",
       "      <td>NaN</td>\n",
       "      <td>NaN</td>\n",
       "      <td>NaN</td>\n",
       "      <td>NaN</td>\n",
       "      <td>NaN</td>\n",
       "      <td>NaN</td>\n",
       "    </tr>\n",
       "    <tr>\n",
       "      <th>88</th>\n",
       "      <td>261.67</td>\n",
       "      <td>-1.04</td>\n",
       "      <td>712.0</td>\n",
       "      <td>715.0</td>\n",
       "      <td>50088</td>\n",
       "      <td>421542.052763</td>\n",
       "      <td>4.632375e+06</td>\n",
       "      <td>-0.10197</td>\n",
       "      <td>421488.501876</td>\n",
       "      <td>4.632371e+06</td>\n",
       "      <td>...</td>\n",
       "      <td>421489.056003</td>\n",
       "      <td>4.632367e+06</td>\n",
       "      <td>421495.638282</td>\n",
       "      <td>4.632372e+06</td>\n",
       "      <td>4.127854</td>\n",
       "      <td>421496.262481</td>\n",
       "      <td>4.632368e+06</td>\n",
       "      <td>NaN</td>\n",
       "      <td>NaN</td>\n",
       "      <td>NaN</td>\n",
       "    </tr>\n",
       "    <tr>\n",
       "      <th>34</th>\n",
       "      <td>261.67</td>\n",
       "      <td>-0.95</td>\n",
       "      <td>658.0</td>\n",
       "      <td>661.0</td>\n",
       "      <td>50034</td>\n",
       "      <td>421990.087455</td>\n",
       "      <td>4.629712e+06</td>\n",
       "      <td>-0.050086</td>\n",
       "      <td>421945.109046</td>\n",
       "      <td>4.629698e+06</td>\n",
       "      <td>...</td>\n",
       "      <td>421944.139795</td>\n",
       "      <td>4.629705e+06</td>\n",
       "      <td>421953.814227</td>\n",
       "      <td>4.629699e+06</td>\n",
       "      <td>3.616709</td>\n",
       "      <td>421952.788949</td>\n",
       "      <td>4.629706e+06</td>\n",
       "      <td>NaN</td>\n",
       "      <td>NaN</td>\n",
       "      <td>NaN</td>\n",
       "    </tr>\n",
       "    <tr>\n",
       "      <th>1</th>\n",
       "      <td>261.67</td>\n",
       "      <td>0.61</td>\n",
       "      <td>625.0</td>\n",
       "      <td>628.0</td>\n",
       "      <td>50001</td>\n",
       "      <td>422122.815293</td>\n",
       "      <td>4.628063e+06</td>\n",
       "      <td>-0.027706</td>\n",
       "      <td>422066.118057</td>\n",
       "      <td>4.628062e+06</td>\n",
       "      <td>...</td>\n",
       "      <td>422067.118392</td>\n",
       "      <td>4.628055e+06</td>\n",
       "      <td>NaN</td>\n",
       "      <td>NaN</td>\n",
       "      <td>NaN</td>\n",
       "      <td>NaN</td>\n",
       "      <td>NaN</td>\n",
       "      <td>NaN</td>\n",
       "      <td>NaN</td>\n",
       "      <td>NaN</td>\n",
       "    </tr>\n",
       "  </tbody>\n",
       "</table>\n",
       "<p>5 rows × 21 columns</p>\n",
       "</div>"
      ],
      "text/plain": [
       "         AZIMUTH   LRR  TRANSECTID  TRANSORDER  DD_ID           SL_x  \\\n",
       "sort_ID                                                                \n",
       "45           NaN   NaN         NaN         NaN  50045  421930.611029   \n",
       "67        261.67 -0.92       691.0       694.0  50067            NaN   \n",
       "88        261.67 -1.04       712.0       715.0  50088  421542.052763   \n",
       "34        261.67 -0.95       658.0       661.0  50034  421990.087455   \n",
       "1         261.67  0.61       625.0       628.0  50001  422122.815293   \n",
       "\n",
       "                 SL_y      Bslope           DH_x          DH_y  ...   \\\n",
       "sort_ID                                                         ...    \n",
       "45       4.630260e+06         NaN  421893.892677  4.630259e+06  ...    \n",
       "67                NaN         NaN            NaN           NaN  ...    \n",
       "88       4.632375e+06    -0.10197  421488.501876  4.632371e+06  ...    \n",
       "34       4.629712e+06   -0.050086  421945.109046  4.629698e+06  ...    \n",
       "1        4.628063e+06   -0.027706  422066.118057  4.628062e+06  ...    \n",
       "\n",
       "              DH_snapX      DH_snapY           DL_x          DL_y      DL_z  \\\n",
       "sort_ID                                                                       \n",
       "45       421894.475215  4.630255e+06  421907.335618  4.630262e+06  2.700916   \n",
       "67                 NaN           NaN            NaN           NaN       NaN   \n",
       "88       421489.056003  4.632367e+06  421495.638282  4.632372e+06  4.127854   \n",
       "34       421944.139795  4.629705e+06  421953.814227  4.629699e+06  3.616709   \n",
       "1        422067.118392  4.628055e+06            NaN           NaN       NaN   \n",
       "\n",
       "              DL_snapX      DL_snapY  Arm_x Arm_y Arm_z  \n",
       "sort_ID                                                  \n",
       "45       421908.050151  4.630257e+06    NaN   NaN   NaN  \n",
       "67                 NaN           NaN    NaN   NaN   NaN  \n",
       "88       421496.262481  4.632368e+06    NaN   NaN   NaN  \n",
       "34       421952.788949  4.629706e+06    NaN   NaN   NaN  \n",
       "1                  NaN           NaN    NaN   NaN   NaN  \n",
       "\n",
       "[5 rows x 21 columns]"
      ]
     },
     "execution_count": 34,
     "metadata": {},
     "output_type": "execute_result"
    }
   ],
   "source": [
    "# Join positions of shoreline, dune crest, dune toe, armoring\n",
    "trans_df = fun.join_columns_id_check(trans_df, sl2trans_df, tID_fld)\n",
    "trans_df = fun.join_columns_id_check(trans_df, dune2trans_df, tID_fld)\n",
    "if 'armorLines' in locals():\n",
    "    trans_df = fun.join_columns_id_check(trans_df, arm2trans_df, tID_fld)\n",
    "\n",
    "# Save and print sample\n",
    "trans_df.to_pickle(os.path.join(scratch_dir, 'trans_df_beachmetrics.pkl'))\n",
    "trans_df.sample(5)"
   ]
  },
  {
   "cell_type": "markdown",
   "metadata": {},
   "source": [
    "### Check for errors\n",
    "*Optional*\n",
    "\n",
    "Display summary stats / histograms and create feature classes. The feature classes display the locations that will be used to calculate beach width. Review the output feature classes in a GIS to validate. "
   ]
  },
  {
   "cell_type": "code",
   "execution_count": 35,
   "metadata": {},
   "outputs": [
    {
     "data": {
      "text/plain": [
       "array([[<matplotlib.axes._subplots.AxesSubplot object at 0x000002928020F470>,\n",
       "        <matplotlib.axes._subplots.AxesSubplot object at 0x0000029280494080>]], dtype=object)"
      ]
     },
     "execution_count": 35,
     "metadata": {},
     "output_type": "execute_result"
    },
    {
     "data": {
      "image/png": "[encoded data removed]",
      "text/plain": [
       "<matplotlib.figure.Figure at 0x292fcfe1748>"
      ]
     },
     "metadata": {},
     "output_type": "display_data"
    }
   ],
   "source": [
    "# add labels to these axes\n",
    "trans_df.hist(['DH_z', 'DL_z', 'Arm_z'])\n",
    "plt.show()\n",
    "plt.close()"
   ]
  },
  {
   "cell_type": "code",
   "execution_count": 36,
   "metadata": {
    "scrolled": true
   },
   "outputs": [
    {
     "data": {
      "text/plain": [
       "'D:\\\\crs\\\\proj\\\\BI-test\\\\scratch.gdb\\\\pts2trans_SL'"
      ]
     },
     "execution_count": 36,
     "metadata": {},
     "output_type": "execute_result"
    },
    {
     "data": {
      "text/plain": [
       "'D:\\\\crs\\\\proj\\\\BI-test\\\\scratch.gdb\\\\ptSnap2trans_DH'"
      ]
     },
     "execution_count": 36,
     "metadata": {},
     "output_type": "execute_result"
    },
    {
     "data": {
      "text/plain": [
       "'D:\\\\crs\\\\proj\\\\BI-test\\\\scratch.gdb\\\\ptSnap2trans_DL'"
      ]
     },
     "execution_count": 36,
     "metadata": {},
     "output_type": "execute_result"
    }
   ],
   "source": [
    "# Convert dataframe to feature class - shoreline points with slope\n",
    "# Output produced here goes to home\\scratch.gdb\n",
    "fwa.DFtoFC(sl2trans_df, os.path.join(arcpy.env.scratchGDB, 'pts2trans_SL'), \n",
    "           spatial_ref=utmSR, id_fld=tID_fld, xy=[\"SL_x\", \"SL_y\"], keep_fields=['Bslope'])\n",
    "\n",
    "# Dune crests\n",
    "try:\n",
    "    fwa.DFtoFC(dune2trans_df, os.path.join(arcpy.env.scratchGDB, 'ptSnap2trans_DH'), \n",
    "               spatial_ref=utmSR, id_fld=tID_fld, xy=[\"DH_snapX\", \"DH_snapY\"], keep_fields=['DH_z'])\n",
    "except Exception as err:\n",
    "    print(err)\n",
    "    pass\n",
    "\n",
    "# Dune toes\n",
    "try:\n",
    "    fwa.DFtoFC(dune2trans_df, os.path.join(arcpy.env.scratchGDB, 'ptSnap2trans_DL'), \n",
    "               spatial_ref=utmSR, id_fld=tID_fld, xy=[\"DL_snapX\", \"DL_snapY\"], keep_fields=['DL_z'])\n",
    "except Exception as err:\n",
    "    print(err)\n",
    "    pass"
   ]
  },
  {
   "cell_type": "markdown",
   "metadata": {},
   "source": [
    "### Calculate upper beach width and height\n",
    "Upper beach width (__uBW__) and upper beach height (__uBH__) are calculated based on the difference in position between two points: the position of MHW along the transect (__SL_x__, __SL_y__) and the dune toe position or equivalent (usually __DL_snapX__, __DL_snapY__).  In some cases, the dune toe is not appropriate to designate the \"top of beach\" so beach width and height are calculated from either the position of the dune toe, the dune crest, or the base of an armoring structure. The dune crest was only considered a possibility if the dune crest elevation (__DH_zMHW__) was less than or equal to `maxDH`. \n",
    "\n",
    "They are calculated as follows: \n",
    "2. Calculate distances from MHW to the position along the transect of the dune toe (__DistDL__), dune crest (__DistDH__), and armoring (__DistArm__). \n",
    "2. Adjust the elevations to MHW, populating fields __DH_zmhw__, __DL_zmhw__, and __Arm_zmhw__. \n",
    "3. Conditionally select the appropriate feature to represent \"top of beach.\" Dune toe is prioritized. If it is not available and __DH_zmhw__ is less than or equal to maxDH, use dune crest. If neither of the dune positions satisfy the conditions and an armoring feature intersects with the transect, use the armoring position. If none of the three are possible, __uBW__ and __uBH__ will be null. \n",
    "4. Copy the distance to shoreline and height above MHW (__Dist--__, __---zmhw__) to __uBW__ and __uBH__, respectively. \n",
    "\n",
    "Notes:\n",
    "- In some morphology datasets, missing elevation values at a point indicate that the point should not be used to measure beach width. In those cases, use the `skip_missing_z` argument to select whether or not to skip these points. "
   ]
  },
  {
   "cell_type": "code",
   "execution_count": 37,
   "metadata": {
    "collapsed": true
   },
   "outputs": [],
   "source": [
    "# Load saved dataframe\n",
    "trans_df = pd.read_pickle(os.path.join(scratch_dir, 'trans_df_beachmetrics.pkl'))"
   ]
  },
  {
   "cell_type": "code",
   "execution_count": 38,
   "metadata": {
    "collapsed": true,
    "scrolled": false
   },
   "outputs": [],
   "source": [
    "# Calculate distances from shore to dunes, etc.\n",
    "trans_df  = fwa.calc_BeachWidth_fill(extendedTrans, trans_df, maxDH, tID_fld, \n",
    "                                     sitevals['MHW'], fill, skip_missing_z=True)"
   ]
  },
  {
   "cell_type": "markdown",
   "metadata": {},
   "source": [
    "### Dist2Inlet\n",
    "\n",
    "\n",
    "Distance to nearest tidal inlet (__Dist2Inlet__) is computed as alongshore distance of each sampling transect from the nearest tidal inlet. This distance includes changes in the path of the shoreline instead of simply a Euclidean distance and reflects sediment transport pathways. It is measured using the oceanside shoreline between inlets (ShoreBetweenInlets). \n",
    "\n",
    "Note that the ShoreBetweenInlets feature class must be both 'dissolved' and 'singlepart' so that each feature represents one-and-only-one shoreline that runs the entire distance between two inlets or equivalent. If the shoreline is bounded on both sides by an inlet, measure the distance to both and assign the minimum distance of the two. If the shoreline meets only one inlet (meaning the study area ends before the island ends), use the distance to the only inlet. \n",
    "\n",
    "The process uses the cut, disjoint, and length geometry methods and properties in ArcPy data access module. The function measure_Dist2Inlet() prints a warning when the difference in Dist2Inlet between two consecutive transects is greater than 300. "
   ]
  },
  {
   "cell_type": "code",
   "execution_count": 39,
   "metadata": {},
   "outputs": [
    {
     "data": {
      "text/plain": [
       "array([False, False, False, False, False, False, False, False, False,\n",
       "       False, False, False, False, False, False, False, False, False,\n",
       "       False, False, False, False, False, False, False, False, False,\n",
       "       False, False, False, False, False, False, False, False, False,\n",
       "       False, False, False, False, False, False, False, False, False,\n",
       "       False, False, False, False, False, False, False, False, False,\n",
       "       False, False, False, False, False, False, False, False, False,\n",
       "       False,  True, False, False, False, False, False, False, False,\n",
       "       False, False, False, False, False, False, False, False, False,\n",
       "       False, False, False, False, False, False, False, False, False,\n",
       "       False, False, False, False, False, False, False, False, False,\n",
       "       False, False, False, False, False, False, False, False, False,\n",
       "       False, False, False, False, False, False, False, False, False,\n",
       "       False, False, False, False, False, False, False, False, False,\n",
       "       False, False, False, False, False, False, False, False, False,\n",
       "       False, False, False, False, False, False, False, False, False,\n",
       "       False, False, False, False, False, False, False, False, False,\n",
       "       False, False, False, False, False, False], dtype=bool)"
      ]
     },
     "execution_count": 39,
     "metadata": {},
     "output_type": "execute_result"
    }
   ],
   "source": [
    "# we needed to debug to determine that the SA_bounds file was bad\n",
    "from IPython.core.interactiveshell import InteractiveShell\n",
    "InteractiveShell.ast_node_interactivity = \"all\"\n",
    "# trans_df.columns\n",
    "# dist_df.index\n",
    "\n",
    "dist_df.index.duplicated()\n",
    "# dist_df.index.isnull().any()\n",
    "# any(dist_df.index==fill)\n",
    "# any([df.index.duplicated().any(), df.index.isnull().any(), any(df.index==fill)])"
   ]
  },
  {
   "cell_type": "code",
   "execution_count": 40,
   "metadata": {
    "scrolled": true
   },
   "outputs": [
    {
     "name": "stdout",
     "output_type": "stream",
     "text": [
      "Duration: 0:0:0.9 seconds\n"
     ]
    },
    {
     "name": "stderr",
     "output_type": "stream",
     "text": [
      "d:\\crs\\src\\bi-geomorph-extraction\\core\\functions_warcpy.py:1039: RuntimeWarning: All-NaN axis encountered\n",
      "  mindist = np.nanmin([lenR, lenL])\n"
     ]
    },
    {
     "data": {
      "text/html": [
       "<div>\n",
       "<style>\n",
       "    .dataframe thead tr:only-child th {\n",
       "        text-align: right;\n",
       "    }\n",
       "\n",
       "    .dataframe thead th {\n",
       "        text-align: left;\n",
       "    }\n",
       "\n",
       "    .dataframe tbody tr th {\n",
       "        vertical-align: top;\n",
       "    }\n",
       "</style>\n",
       "<table border=\"1\" class=\"dataframe\">\n",
       "  <thead>\n",
       "    <tr style=\"text-align: right;\">\n",
       "      <th></th>\n",
       "      <th>Dist2Inlet</th>\n",
       "    </tr>\n",
       "    <tr>\n",
       "      <th>sort_ID</th>\n",
       "      <th></th>\n",
       "    </tr>\n",
       "  </thead>\n",
       "  <tbody>\n",
       "    <tr>\n",
       "      <th>149.0</th>\n",
       "      <td>4106.560130</td>\n",
       "    </tr>\n",
       "    <tr>\n",
       "      <th>150.0</th>\n",
       "      <td>4156.629107</td>\n",
       "    </tr>\n",
       "    <tr>\n",
       "      <th>151.0</th>\n",
       "      <td>4206.732876</td>\n",
       "    </tr>\n",
       "    <tr>\n",
       "      <th>152.0</th>\n",
       "      <td>4256.787630</td>\n",
       "    </tr>\n",
       "    <tr>\n",
       "      <th>153.0</th>\n",
       "      <td>4306.848843</td>\n",
       "    </tr>\n",
       "    <tr>\n",
       "      <th>154.0</th>\n",
       "      <td>4356.869387</td>\n",
       "    </tr>\n",
       "    <tr>\n",
       "      <th>155.0</th>\n",
       "      <td>4406.946875</td>\n",
       "    </tr>\n",
       "    <tr>\n",
       "      <th>156.0</th>\n",
       "      <td>4457.143554</td>\n",
       "    </tr>\n",
       "    <tr>\n",
       "      <th>157.0</th>\n",
       "      <td>4507.186842</td>\n",
       "    </tr>\n",
       "    <tr>\n",
       "      <th>158.0</th>\n",
       "      <td>4557.191924</td>\n",
       "    </tr>\n",
       "  </tbody>\n",
       "</table>\n",
       "</div>"
      ],
      "text/plain": [
       "          Dist2Inlet\n",
       "sort_ID             \n",
       "149.0    4106.560130\n",
       "150.0    4156.629107\n",
       "151.0    4206.732876\n",
       "152.0    4256.787630\n",
       "153.0    4306.848843\n",
       "154.0    4356.869387\n",
       "155.0    4406.946875\n",
       "156.0    4457.143554\n",
       "157.0    4507.186842\n",
       "158.0    4557.191924"
      ]
     },
     "execution_count": 40,
     "metadata": {},
     "output_type": "execute_result"
    }
   ],
   "source": [
    "# Calc Dist2Inlet in new dataframe \n",
    "dist_df = fwa.measure_Dist2Inlet(shoreline, extendedTrans, inletLines, tID_fld)\n",
    "\n",
    "# Join to transects\n",
    "trans_df = fun.join_columns_id_check(trans_df, dist_df, tID_fld, fill=fill)\n",
    "\n",
    "# Save and view last 10 rows\n",
    "dist_df.to_pickle(os.path.join(scratch_dir, 'dist2inlet_df.pkl'))\n",
    "dist_df.tail(10)"
   ]
  },
  {
   "cell_type": "markdown",
   "metadata": {},
   "source": [
    "### Clip transects, get barrier widths\n",
    "Calculates __WidthLand__, __WidthFull__, and __WidthPart__, which measure different flavors of the cross-shore width of the barrier island. __WidthLand__ is the above-water distance between the back-barrier and seaward MHW shorelines. __WidthLand__ only includes regions of the barrier within the shoreline polygon (bndpoly_2sl) and does not extend into any of the sinuous or intervening back-barrier waterways and islands. __WidthFull__ is the total distance between the back-barrier and seaward MHW shorelines (including space occupied by waterways). __WidthPart__ is the width of only the most seaward portion of land within the shoreline. \n",
    "\n",
    "These are calculated as follows: \n",
    "\n",
    "1. Clip the transect to the full island shoreline (Clip in the Analysis toolbox); \n",
    "2. For __WidthLand__, get the length of the multipart line segment from &quot;SHAPE@LENGTH&quot; feature class attribute. When the feature is multipart, this will include only the remaining portions of the transect; \n",
    "3. For __WidthPart__, convert the clipped transect from multipart to singlepart and get the length of the first line segment, which should be the most seaward; \n",
    "4. For __WidthFull__, calculate the distance between the first vertex and the last vertex of the clipped transect (Feature Class to NumPy Array with explode to points, pandas groupby, numpy hypot)."
   ]
  },
  {
   "cell_type": "code",
   "execution_count": 41,
   "metadata": {},
   "outputs": [
    {
     "name": "stdout",
     "output_type": "stream",
     "text": [
      "Clipping the transects to the barrier island boundaries ('clip2island')...\n",
      "Getting the width along each transect of the oceanside land (WidthPart)...\n",
      "...converting feature class to array...\n",
      "...converting array to dataframe...\n",
      "Getting the width along each transect of the entire barrier (WidthFull)...\n",
      "Converting feature class vertices to array with X and Y...\n",
      "...converting array to dataframe...\n",
      "Getting the width along each transect of above water portion of the barrier (WidthLand)...\n"
     ]
    },
    {
     "data": {
      "text/html": [
       "<div>\n",
       "<style>\n",
       "    .dataframe thead tr:only-child th {\n",
       "        text-align: right;\n",
       "    }\n",
       "\n",
       "    .dataframe thead th {\n",
       "        text-align: left;\n",
       "    }\n",
       "\n",
       "    .dataframe tbody tr th {\n",
       "        vertical-align: top;\n",
       "    }\n",
       "</style>\n",
       "<table border=\"1\" class=\"dataframe\">\n",
       "  <thead>\n",
       "    <tr style=\"text-align: right;\">\n",
       "      <th></th>\n",
       "      <th>AZIMUTH</th>\n",
       "      <th>LRR</th>\n",
       "      <th>TRANSECTID</th>\n",
       "      <th>TRANSORDER</th>\n",
       "      <th>DD_ID</th>\n",
       "      <th>SL_x</th>\n",
       "      <th>SL_y</th>\n",
       "      <th>Bslope</th>\n",
       "      <th>DH_x</th>\n",
       "      <th>DH_y</th>\n",
       "      <th>...</th>\n",
       "      <th>DistDL</th>\n",
       "      <th>DistDH</th>\n",
       "      <th>DistArm</th>\n",
       "      <th>uBW</th>\n",
       "      <th>uBH</th>\n",
       "      <th>ub_feat</th>\n",
       "      <th>Dist2Inlet</th>\n",
       "      <th>WidthFull</th>\n",
       "      <th>WidthLand</th>\n",
       "      <th>WidthPart</th>\n",
       "    </tr>\n",
       "    <tr>\n",
       "      <th>sort_ID</th>\n",
       "      <th></th>\n",
       "      <th></th>\n",
       "      <th></th>\n",
       "      <th></th>\n",
       "      <th></th>\n",
       "      <th></th>\n",
       "      <th></th>\n",
       "      <th></th>\n",
       "      <th></th>\n",
       "      <th></th>\n",
       "      <th></th>\n",
       "      <th></th>\n",
       "      <th></th>\n",
       "      <th></th>\n",
       "      <th></th>\n",
       "      <th></th>\n",
       "      <th></th>\n",
       "      <th></th>\n",
       "      <th></th>\n",
       "      <th></th>\n",
       "      <th></th>\n",
       "    </tr>\n",
       "  </thead>\n",
       "  <tbody>\n",
       "    <tr>\n",
       "      <th>9</th>\n",
       "      <td>261.67</td>\n",
       "      <td>-1.47</td>\n",
       "      <td>633.0</td>\n",
       "      <td>636.0</td>\n",
       "      <td>50009</td>\n",
       "      <td>422094.369330</td>\n",
       "      <td>4.628463e+06</td>\n",
       "      <td>-0.051074</td>\n",
       "      <td>422046.592675</td>\n",
       "      <td>4.628452e+06</td>\n",
       "      <td>...</td>\n",
       "      <td>29.606629</td>\n",
       "      <td>48.925561</td>\n",
       "      <td>NaN</td>\n",
       "      <td>29.606629</td>\n",
       "      <td>2.597093</td>\n",
       "      <td>DL</td>\n",
       "      <td>NaN</td>\n",
       "      <td>602.694232</td>\n",
       "      <td>372.580134</td>\n",
       "      <td>176.153826</td>\n",
       "    </tr>\n",
       "    <tr>\n",
       "      <th>66</th>\n",
       "      <td>261.67</td>\n",
       "      <td>-0.96</td>\n",
       "      <td>690.0</td>\n",
       "      <td>693.0</td>\n",
       "      <td>50066</td>\n",
       "      <td>NaN</td>\n",
       "      <td>NaN</td>\n",
       "      <td>NaN</td>\n",
       "      <td>NaN</td>\n",
       "      <td>NaN</td>\n",
       "      <td>...</td>\n",
       "      <td>NaN</td>\n",
       "      <td>NaN</td>\n",
       "      <td>NaN</td>\n",
       "      <td>NaN</td>\n",
       "      <td>NaN</td>\n",
       "      <td>NaN</td>\n",
       "      <td>NaN</td>\n",
       "      <td>1383.703505</td>\n",
       "      <td>1178.252920</td>\n",
       "      <td>422.063762</td>\n",
       "    </tr>\n",
       "    <tr>\n",
       "      <th>26</th>\n",
       "      <td>261.67</td>\n",
       "      <td>-1.65</td>\n",
       "      <td>650.0</td>\n",
       "      <td>653.0</td>\n",
       "      <td>50026</td>\n",
       "      <td>422033.973443</td>\n",
       "      <td>4.629314e+06</td>\n",
       "      <td>-0.033487</td>\n",
       "      <td>421962.147234</td>\n",
       "      <td>4.629308e+06</td>\n",
       "      <td>...</td>\n",
       "      <td>40.686609</td>\n",
       "      <td>71.906098</td>\n",
       "      <td>NaN</td>\n",
       "      <td>40.686609</td>\n",
       "      <td>1.487318</td>\n",
       "      <td>DL</td>\n",
       "      <td>NaN</td>\n",
       "      <td>883.090171</td>\n",
       "      <td>338.698498</td>\n",
       "      <td>213.605652</td>\n",
       "    </tr>\n",
       "    <tr>\n",
       "      <th>86</th>\n",
       "      <td>261.67</td>\n",
       "      <td>-1.12</td>\n",
       "      <td>710.0</td>\n",
       "      <td>713.0</td>\n",
       "      <td>50086</td>\n",
       "      <td>421546.378113</td>\n",
       "      <td>4.632274e+06</td>\n",
       "      <td>-0.10744</td>\n",
       "      <td>421509.517227</td>\n",
       "      <td>4.632273e+06</td>\n",
       "      <td>...</td>\n",
       "      <td>25.436759</td>\n",
       "      <td>36.662055</td>\n",
       "      <td>NaN</td>\n",
       "      <td>25.436759</td>\n",
       "      <td>2.891866</td>\n",
       "      <td>DL</td>\n",
       "      <td>988.521060</td>\n",
       "      <td>692.768374</td>\n",
       "      <td>670.748250</td>\n",
       "      <td>368.188207</td>\n",
       "    </tr>\n",
       "    <tr>\n",
       "      <th>101</th>\n",
       "      <td>261.67</td>\n",
       "      <td>-1.06</td>\n",
       "      <td>725.0</td>\n",
       "      <td>728.0</td>\n",
       "      <td>50101</td>\n",
       "      <td>421416.044256</td>\n",
       "      <td>4.633013e+06</td>\n",
       "      <td>-0.10413</td>\n",
       "      <td>421369.011290</td>\n",
       "      <td>4.633010e+06</td>\n",
       "      <td>...</td>\n",
       "      <td>38.283360</td>\n",
       "      <td>47.014146</td>\n",
       "      <td>NaN</td>\n",
       "      <td>38.283360</td>\n",
       "      <td>3.143700</td>\n",
       "      <td>DL</td>\n",
       "      <td>1741.041964</td>\n",
       "      <td>396.012210</td>\n",
       "      <td>396.012210</td>\n",
       "      <td>396.012210</td>\n",
       "    </tr>\n",
       "  </tbody>\n",
       "</table>\n",
       "<p>5 rows × 34 columns</p>\n",
       "</div>"
      ],
      "text/plain": [
       "         AZIMUTH   LRR  TRANSECTID  TRANSORDER  DD_ID           SL_x  \\\n",
       "sort_ID                                                                \n",
       "9         261.67 -1.47       633.0       636.0  50009  422094.369330   \n",
       "66        261.67 -0.96       690.0       693.0  50066            NaN   \n",
       "26        261.67 -1.65       650.0       653.0  50026  422033.973443   \n",
       "86        261.67 -1.12       710.0       713.0  50086  421546.378113   \n",
       "101       261.67 -1.06       725.0       728.0  50101  421416.044256   \n",
       "\n",
       "                 SL_y      Bslope           DH_x          DH_y     ...      \\\n",
       "sort_ID                                                            ...       \n",
       "9        4.628463e+06   -0.051074  422046.592675  4.628452e+06     ...       \n",
       "66                NaN         NaN            NaN           NaN     ...       \n",
       "26       4.629314e+06   -0.033487  421962.147234  4.629308e+06     ...       \n",
       "86       4.632274e+06    -0.10744  421509.517227  4.632273e+06     ...       \n",
       "101      4.633013e+06    -0.10413  421369.011290  4.633010e+06     ...       \n",
       "\n",
       "            DistDL     DistDH  DistArm        uBW       uBH  ub_feat  \\\n",
       "sort_ID                                                                \n",
       "9        29.606629  48.925561      NaN  29.606629  2.597093       DL   \n",
       "66             NaN        NaN      NaN        NaN       NaN      NaN   \n",
       "26       40.686609  71.906098      NaN  40.686609  1.487318       DL   \n",
       "86       25.436759  36.662055      NaN  25.436759  2.891866       DL   \n",
       "101      38.283360  47.014146      NaN  38.283360  3.143700       DL   \n",
       "\n",
       "          Dist2Inlet    WidthFull    WidthLand   WidthPart  \n",
       "sort_ID                                                     \n",
       "9                NaN   602.694232   372.580134  176.153826  \n",
       "66               NaN  1383.703505  1178.252920  422.063762  \n",
       "26               NaN   883.090171   338.698498  213.605652  \n",
       "86        988.521060   692.768374   670.748250  368.188207  \n",
       "101      1741.041964   396.012210   396.012210  396.012210  \n",
       "\n",
       "[5 rows x 34 columns]"
      ]
     },
     "execution_count": 41,
     "metadata": {},
     "output_type": "execute_result"
    }
   ],
   "source": [
    "# Clip transects, get barrier widths\n",
    "widths_df = fwa.calc_IslandWidths(extendedTrans, barrierBoundary, tID_fld=tID_fld)\n",
    "\n",
    "# # Save\n",
    "widths_df.to_pickle(os.path.join(scratch_dir, 'widths_df.pkl'))\n",
    "\n",
    "# Join\n",
    "trans_df = fun.join_columns_id_check(trans_df, widths_df, tID_fld, fill=fill)\n",
    "\n",
    "# Save\n",
    "trans_df.to_pickle(os.path.join(scratch_dir, trans_name+'_null_prePts.pkl'))\n",
    "trans_df.sample(5)"
   ]
  },
  {
   "cell_type": "markdown",
   "metadata": {},
   "source": [
    "## 5-m Points\n",
    "The point dataset samples the land every 5 m along each shore-normal transect. \n",
    "\n",
    "### Split transects into points at 5-m intervals. \n",
    "\n",
    "The point dataset is created from the tidied transects (tidyTrans, created during pre-processing) as follows: \n",
    "\n",
    "1. Clip the tidied transects (tidyTrans) to the shoreline polygon (bndpoly_2sl) , retaining only those portions of the transects that represent land.\n",
    "2. Produce a dataframe of point positions along each transect every 5 m starting from the ocean-side shoreline. This uses the positionAlongLine geometry method accessed with a Search Cursor and saves the outputs in a new dataframe. \n",
    "3. Create a point feature class from the dataframe. "
   ]
  },
  {
   "cell_type": "code",
   "execution_count": 3,
   "metadata": {
    "collapsed": true
   },
   "outputs": [],
   "source": [
    "trans_df = pd.read_pickle(os.path.join(scratch_dir, trans_name+'_null_prePts.pkl'))"
   ]
  },
  {
   "cell_type": "code",
   "execution_count": 4,
   "metadata": {},
   "outputs": [
    {
     "name": "stdout",
     "output_type": "stream",
     "text": [
      "Clipping transects to within the shoreline bounds ('tidytrans_clipped')...\n",
      "Getting points every 5m along each transect and saving in new dataframe...\n",
      "Converting dataframe to feature class ('transPts_unsorted')...\n",
      "Duration: 0:0:29.8 seconds\n"
     ]
    }
   ],
   "source": [
    "pts_df, pts_presort = fwa.TransectsToPointsDF(extTrans_tidy, barrierBoundary, \n",
    "                                              fc_out=os.path.join(arcpy.env.scratchGDB, 'transPts_unsorted'))"
   ]
  },
  {
   "cell_type": "markdown",
   "metadata": {},
   "source": [
    "### Add Elevation and Slope to points\n",
    "\n",
    "__ptZ__ (later __ptZmhw__) and __ptSlp__ are the elevation and slope at the 5-m cell corresponding to the point. \n",
    "1. Create the slope and DEM rasters if they don't already exist. We use the 5-m DEM to generate a slope surface (Slope tool in 3D Analyst). \n",
    "2. Use Extract Multi Values to Points tool in Spatial Analyst. \n",
    "3. Convert the feature class back to a dataframe."
   ]
  },
  {
   "cell_type": "code",
   "execution_count": 5,
   "metadata": {},
   "outputs": [
    {
     "data": {
      "text/plain": [
       "<geoprocessing server result object at 0x22da5ab7918>"
      ]
     },
     "execution_count": 5,
     "metadata": {},
     "output_type": "execute_result"
    }
   ],
   "source": [
    "# Should save the results of this cell\n",
    "# Create slope raster from DEM\n",
    "if not arcpy.Exists(slopeGrid):\n",
    "    arcpy.Slope_3d(elevGrid, slopeGrid, 'PERCENT_RISE')\n",
    "    \n",
    "# Add elevation and slope values at points.\n",
    "arcpy.sa.ExtractMultiValuesToPoints(pts_presort, [[elevGrid, 'ptZ'], [slopeGrid, 'ptSlp']])"
   ]
  },
  {
   "cell_type": "code",
   "execution_count": 8,
   "metadata": {},
   "outputs": [
    {
     "name": "stdout",
     "output_type": "stream",
     "text": [
      "Converting feature class to array with X and Y...\n",
      "...converting array to dataframe...\n",
      "Plover BN layers not specified (we only check for SubType), so we'll proceed without them. \n"
     ]
    },
    {
     "data": {
      "text/html": [
       "<div>\n",
       "<style>\n",
       "    .dataframe thead tr:only-child th {\n",
       "        text-align: right;\n",
       "    }\n",
       "\n",
       "    .dataframe thead th {\n",
       "        text-align: left;\n",
       "    }\n",
       "\n",
       "    .dataframe tbody tr th {\n",
       "        vertical-align: top;\n",
       "    }\n",
       "</style>\n",
       "<table border=\"1\" class=\"dataframe\">\n",
       "  <thead>\n",
       "    <tr style=\"text-align: right;\">\n",
       "      <th></th>\n",
       "      <th>SHAPE@X</th>\n",
       "      <th>SHAPE@Y</th>\n",
       "      <th>ptSlp</th>\n",
       "      <th>ptZ</th>\n",
       "      <th>sort_ID</th>\n",
       "    </tr>\n",
       "  </thead>\n",
       "  <tbody>\n",
       "    <tr>\n",
       "      <th>11257</th>\n",
       "      <td>420280.908187</td>\n",
       "      <td>4.631230e+06</td>\n",
       "      <td>4.655159</td>\n",
       "      <td>0.018750</td>\n",
       "      <td>69.0</td>\n",
       "    </tr>\n",
       "    <tr>\n",
       "      <th>19317</th>\n",
       "      <td>421405.043963</td>\n",
       "      <td>4.628666e+06</td>\n",
       "      <td>2.069998</td>\n",
       "      <td>0.763750</td>\n",
       "      <td>15.0</td>\n",
       "    </tr>\n",
       "    <tr>\n",
       "      <th>16734</th>\n",
       "      <td>420579.813423</td>\n",
       "      <td>4.629961e+06</td>\n",
       "      <td>3.323235</td>\n",
       "      <td>0.085625</td>\n",
       "      <td>43.0</td>\n",
       "    </tr>\n",
       "    <tr>\n",
       "      <th>5879</th>\n",
       "      <td>420766.342743</td>\n",
       "      <td>4.631402e+06</td>\n",
       "      <td>6.589811</td>\n",
       "      <td>0.269375</td>\n",
       "      <td>71.0</td>\n",
       "    </tr>\n",
       "    <tr>\n",
       "      <th>7437</th>\n",
       "      <td>421054.436547</td>\n",
       "      <td>4.631798e+06</td>\n",
       "      <td>0.316182</td>\n",
       "      <td>0.806875</td>\n",
       "      <td>78.0</td>\n",
       "    </tr>\n",
       "  </tbody>\n",
       "</table>\n",
       "</div>"
      ],
      "text/plain": [
       "             SHAPE@X       SHAPE@Y     ptSlp       ptZ  sort_ID\n",
       "11257  420280.908187  4.631230e+06  4.655159  0.018750     69.0\n",
       "19317  421405.043963  4.628666e+06  2.069998  0.763750     15.0\n",
       "16734  420579.813423  4.629961e+06  3.323235  0.085625     43.0\n",
       "5879   420766.342743  4.631402e+06  6.589811  0.269375     71.0\n",
       "7437   421054.436547  4.631798e+06  0.316182  0.806875     78.0"
      ]
     },
     "execution_count": 8,
     "metadata": {},
     "output_type": "execute_result"
    }
   ],
   "source": [
    "# This failed because we had not commented out the optional variable names\n",
    "if 'SubType' in locals():\n",
    "    # Add substrate type, geomorphic setting, veg type, veg density values at points.\n",
    "    arcpy.sa.ExtractMultiValuesToPoints(pts_presort, [[SubType, 'SubType'], [VegType, 'VegType'], \n",
    "                                                           [VegDens, 'VegDens'], [GeoSet, 'GeoSet'],\n",
    "                                                            [DisMOSH, 'DisMOSH']])\n",
    "\n",
    "    # Convert to dataframe\n",
    "    pts_df = fwa.FCtoDF(pts_presort, xy=True, dffields=[tID_fld,'ptZ', 'ptSlp', 'SubType', \n",
    "                                                             'VegType', 'VegDens', 'GeoSet','DisMOSH'])\n",
    "    # Recode fill values\n",
    "    pts_df.replace({'GeoSet': {9999:np.nan}, 'SubType': {9999:np.nan}, 'VegType': {9999:np.nan},\n",
    "                    'VegDens': {9999:np.nan}, 'DisMOSH': {9999:np.nan}}, inplace=True)\n",
    "else:\n",
    "     # Need to build pts_df here if the optional variables are not treated above\n",
    "    pts_df = fwa.FCtoDF(pts_presort, xy=True, dffields=[tID_fld,'ptZ', 'ptSlp'])\n",
    "    print(\"Plover BN layers not specified (we only check for SubType), so we'll proceed without them. \")\n",
    "# Save and view sample\n",
    "pts_df.to_pickle(os.path.join(scratch_dir, 'pts_extractedvalues_presort.pkl'))\n",
    "pts_df.sample(5)"
   ]
  },
  {
   "cell_type": "code",
   "execution_count": 9,
   "metadata": {},
   "outputs": [
    {
     "data": {
      "image/png": "[encoded data removed]",
      "text/plain": [
       "<matplotlib.figure.Figure at 0x22da60a1780>"
      ]
     },
     "metadata": {},
     "output_type": "display_data"
    }
   ],
   "source": [
    "# This failed because 'pts_df.ptZ' was missing ...see comment in cell above\n",
    "# Print histogram of elevation extracted to points\n",
    "pts_df.hist('ptZ')\n",
    "plt.show()\n",
    "plt.close()\n",
    "# label axes"
   ]
  },
  {
   "cell_type": "markdown",
   "metadata": {},
   "source": [
    "### Calculate distances and sort points\n",
    "\n",
    "__SplitSort__ is a unique numeric identifier of the 5-m points at the study site, sorted by order along shoreline and by distance from oceanside. __SplitSort__ values are populated by sorting the points by __sort_ID__ and __Dist_Seg__ (see below). \n",
    "\n",
    "__Dist_Seg__ is the Euclidean distance between the point and the seaward shoreline (__SL_x__, __SL_y__). __Dist_MHWbay__ is the distance between the point and the bayside shoreline and is calculated by subtracting the __Dist_Seg__ value from the __WidthPart__ value of the transect. \n",
    "\n",
    "__DistSegDH__, __DistSegDL__, and __DistSegArm__ measure the distance of each 5-m point from the dune crest and dune toe position along a particular transect. They are calculated as the Euclidean distance between the 5-m point and the given feature. "
   ]
  },
  {
   "cell_type": "code",
   "execution_count": 10,
   "metadata": {
    "collapsed": true
   },
   "outputs": [],
   "source": [
    "# Load saved dataframes\n",
    "pts_df = pd.read_pickle(os.path.join(scratch_dir, 'pts_extractedvalues_presort.pkl'))\n",
    "trans_df = pd.read_pickle(os.path.join(scratch_dir, trans_name+'_null_prePts.pkl'))"
   ]
  },
  {
   "cell_type": "code",
   "execution_count": 11,
   "metadata": {},
   "outputs": [
    {
     "data": {
      "text/html": [
       "<div>\n",
       "<style>\n",
       "    .dataframe thead tr:only-child th {\n",
       "        text-align: right;\n",
       "    }\n",
       "\n",
       "    .dataframe thead th {\n",
       "        text-align: left;\n",
       "    }\n",
       "\n",
       "    .dataframe tbody tr th {\n",
       "        vertical-align: top;\n",
       "    }\n",
       "</style>\n",
       "<table border=\"1\" class=\"dataframe\">\n",
       "  <thead>\n",
       "    <tr style=\"text-align: right;\">\n",
       "      <th></th>\n",
       "      <th>SplitSort</th>\n",
       "      <th>seg_x</th>\n",
       "      <th>seg_y</th>\n",
       "      <th>Dist_Seg</th>\n",
       "      <th>Dist_MHWbay</th>\n",
       "      <th>DistSegDH</th>\n",
       "      <th>DistSegDL</th>\n",
       "      <th>DistSegArm</th>\n",
       "      <th>ptZ</th>\n",
       "      <th>ptSlp</th>\n",
       "      <th>...</th>\n",
       "      <th>WidthLand</th>\n",
       "      <th>WidthFull</th>\n",
       "      <th>uBW</th>\n",
       "      <th>uBH</th>\n",
       "      <th>ub_feat</th>\n",
       "      <th>mean_Zmhw</th>\n",
       "      <th>max_Zmhw</th>\n",
       "      <th>Construction</th>\n",
       "      <th>Development</th>\n",
       "      <th>Nourishment</th>\n",
       "    </tr>\n",
       "  </thead>\n",
       "  <tbody>\n",
       "    <tr>\n",
       "      <th>3371</th>\n",
       "      <td>3371</td>\n",
       "      <td>421106.815533</td>\n",
       "      <td>4.629633e+06</td>\n",
       "      <td>892.184564</td>\n",
       "      <td>-756.593520</td>\n",
       "      <td>838.982515</td>\n",
       "      <td>850.229916</td>\n",
       "      <td>NaN</td>\n",
       "      <td>0.656250</td>\n",
       "      <td>1.016661</td>\n",
       "      <td>...</td>\n",
       "      <td>678.373007</td>\n",
       "      <td>1060.557570</td>\n",
       "      <td>41.856540</td>\n",
       "      <td>2.635672</td>\n",
       "      <td>DL</td>\n",
       "      <td>0.134625</td>\n",
       "      <td>4.660625</td>\n",
       "      <td>NaN</td>\n",
       "      <td>NaN</td>\n",
       "      <td>NaN</td>\n",
       "    </tr>\n",
       "    <tr>\n",
       "      <th>8411</th>\n",
       "      <td>8411</td>\n",
       "      <td>421800.103879</td>\n",
       "      <td>4.630897e+06</td>\n",
       "      <td>10.000000</td>\n",
       "      <td>182.792356</td>\n",
       "      <td>-42.835614</td>\n",
       "      <td>NaN</td>\n",
       "      <td>NaN</td>\n",
       "      <td>1.253125</td>\n",
       "      <td>6.328619</td>\n",
       "      <td>...</td>\n",
       "      <td>1260.775757</td>\n",
       "      <td>1708.075048</td>\n",
       "      <td>52.686185</td>\n",
       "      <td>1.718660</td>\n",
       "      <td>DH</td>\n",
       "      <td>-0.235115</td>\n",
       "      <td>1.596250</td>\n",
       "      <td>NaN</td>\n",
       "      <td>NaN</td>\n",
       "      <td>NaN</td>\n",
       "    </tr>\n",
       "    <tr>\n",
       "      <th>6191</th>\n",
       "      <td>6191</td>\n",
       "      <td>421004.593536</td>\n",
       "      <td>4.630327e+06</td>\n",
       "      <td>910.910259</td>\n",
       "      <td>-739.848545</td>\n",
       "      <td>873.990958</td>\n",
       "      <td>884.936104</td>\n",
       "      <td>NaN</td>\n",
       "      <td>0.062500</td>\n",
       "      <td>3.780776</td>\n",
       "      <td>...</td>\n",
       "      <td>1050.972939</td>\n",
       "      <td>1479.736943</td>\n",
       "      <td>25.388571</td>\n",
       "      <td>1.882428</td>\n",
       "      <td>DL</td>\n",
       "      <td>-0.237265</td>\n",
       "      <td>2.406875</td>\n",
       "      <td>NaN</td>\n",
       "      <td>NaN</td>\n",
       "      <td>NaN</td>\n",
       "    </tr>\n",
       "    <tr>\n",
       "      <th>1784</th>\n",
       "      <td>1784</td>\n",
       "      <td>421375.361562</td>\n",
       "      <td>4.628863e+06</td>\n",
       "      <td>675.000000</td>\n",
       "      <td>15.077324</td>\n",
       "      <td>614.288849</td>\n",
       "      <td>632.604512</td>\n",
       "      <td>NaN</td>\n",
       "      <td>0.021875</td>\n",
       "      <td>0.335483</td>\n",
       "      <td>...</td>\n",
       "      <td>690.077324</td>\n",
       "      <td>690.077324</td>\n",
       "      <td>42.113551</td>\n",
       "      <td>2.429071</td>\n",
       "      <td>DL</td>\n",
       "      <td>0.225566</td>\n",
       "      <td>3.808750</td>\n",
       "      <td>NaN</td>\n",
       "      <td>NaN</td>\n",
       "      <td>NaN</td>\n",
       "    </tr>\n",
       "    <tr>\n",
       "      <th>4826</th>\n",
       "      <td>4826</td>\n",
       "      <td>420545.182995</td>\n",
       "      <td>4.629956e+06</td>\n",
       "      <td>1419.403193</td>\n",
       "      <td>-1273.553731</td>\n",
       "      <td>1358.067799</td>\n",
       "      <td>1394.310561</td>\n",
       "      <td>NaN</td>\n",
       "      <td>0.757500</td>\n",
       "      <td>0.308197</td>\n",
       "      <td>...</td>\n",
       "      <td>1202.019793</td>\n",
       "      <td>1521.422985</td>\n",
       "      <td>25.090529</td>\n",
       "      <td>1.614108</td>\n",
       "      <td>DL</td>\n",
       "      <td>-0.099563</td>\n",
       "      <td>3.227500</td>\n",
       "      <td>NaN</td>\n",
       "      <td>NaN</td>\n",
       "      <td>NaN</td>\n",
       "    </tr>\n",
       "  </tbody>\n",
       "</table>\n",
       "<p>5 rows × 54 columns</p>\n",
       "</div>"
      ],
      "text/plain": [
       "      SplitSort          seg_x         seg_y     Dist_Seg  Dist_MHWbay  \\\n",
       "3371       3371  421106.815533  4.629633e+06   892.184564  -756.593520   \n",
       "8411       8411  421800.103879  4.630897e+06    10.000000   182.792356   \n",
       "6191       6191  421004.593536  4.630327e+06   910.910259  -739.848545   \n",
       "1784       1784  421375.361562  4.628863e+06   675.000000    15.077324   \n",
       "4826       4826  420545.182995  4.629956e+06  1419.403193 -1273.553731   \n",
       "\n",
       "        DistSegDH    DistSegDL  DistSegArm       ptZ     ptSlp     ...       \\\n",
       "3371   838.982515   850.229916         NaN  0.656250  1.016661     ...        \n",
       "8411   -42.835614          NaN         NaN  1.253125  6.328619     ...        \n",
       "6191   873.990958   884.936104         NaN  0.062500  3.780776     ...        \n",
       "1784   614.288849   632.604512         NaN  0.021875  0.335483     ...        \n",
       "4826  1358.067799  1394.310561         NaN  0.757500  0.308197     ...        \n",
       "\n",
       "        WidthLand    WidthFull        uBW       uBH  ub_feat mean_Zmhw  \\\n",
       "3371   678.373007  1060.557570  41.856540  2.635672       DL  0.134625   \n",
       "8411  1260.775757  1708.075048  52.686185  1.718660       DH -0.235115   \n",
       "6191  1050.972939  1479.736943  25.388571  1.882428       DL -0.237265   \n",
       "1784   690.077324   690.077324  42.113551  2.429071       DL  0.225566   \n",
       "4826  1202.019793  1521.422985  25.090529  1.614108       DL -0.099563   \n",
       "\n",
       "      max_Zmhw  Construction  Development  Nourishment  \n",
       "3371  4.660625           NaN          NaN          NaN  \n",
       "8411  1.596250           NaN          NaN          NaN  \n",
       "6191  2.406875           NaN          NaN          NaN  \n",
       "1784  3.808750           NaN          NaN          NaN  \n",
       "4826  3.227500           NaN          NaN          NaN  \n",
       "\n",
       "[5 rows x 54 columns]"
      ]
     },
     "execution_count": 11,
     "metadata": {},
     "output_type": "execute_result"
    }
   ],
   "source": [
    "# Calculate DistSeg, Dist_MHWbay, DistSegDH, DistSegDL, DistSegArm, and sort points (SplitSort)\n",
    "pts_df = fun.join_columns(pts_df, trans_df, tID_fld)\n",
    "pts_df = fun.prep_points(pts_df, tID_fld, pID_fld, sitevals['MHW'], fill)\n",
    "\n",
    "# Aggregate ptZmhw to max and mean and join to transects\n",
    "pts_df, zmhw = fun.aggregate_z(pts_df, sitevals['MHW'], tID_fld, 'ptZ', fill)\n",
    "trans_df = fun.join_columns(trans_df, zmhw) \n",
    "\n",
    "# Join transect values to pts\n",
    "pts_df = fun.join_columns(pts_df, trans_df, tID_fld)\n",
    "\n",
    "# pID_fld needs to be among the columns\n",
    "if not pID_fld in pts_df.columns:\n",
    "    pts_df.reset_index(drop=False, inplace=True)\n",
    "\n",
    "# Drop extra fields and sort columns\n",
    "trans_df.drop(extra_fields, axis=1, inplace=True, errors='ignore')\n",
    "pts_df = pts_df.reindex_axis(sorted_pt_flds, axis=1)\n",
    "\n",
    "# Save dataframes \n",
    "trans_df.to_pickle(os.path.join(scratch_dir, trans_name+'_null.pkl'))\n",
    "pts_df.to_pickle(os.path.join(scratch_dir, pts_name+'_null.pkl'))\n",
    "\n",
    "# View random rows from the points DF\n",
    "pts_df.sample(5)"
   ]
  },
  {
   "cell_type": "markdown",
   "metadata": {},
   "source": [
    "### Recode the values for CSV output and model running"
   ]
  },
  {
   "cell_type": "code",
   "execution_count": 12,
   "metadata": {},
   "outputs": [
    {
     "data": {
      "text/html": [
       "<div>\n",
       "<style>\n",
       "    .dataframe thead tr:only-child th {\n",
       "        text-align: right;\n",
       "    }\n",
       "\n",
       "    .dataframe thead th {\n",
       "        text-align: left;\n",
       "    }\n",
       "\n",
       "    .dataframe tbody tr th {\n",
       "        vertical-align: top;\n",
       "    }\n",
       "</style>\n",
       "<table border=\"1\" class=\"dataframe\">\n",
       "  <thead>\n",
       "    <tr style=\"text-align: right;\">\n",
       "      <th></th>\n",
       "      <th>SplitSort</th>\n",
       "      <th>seg_x</th>\n",
       "      <th>seg_y</th>\n",
       "      <th>Dist_Seg</th>\n",
       "      <th>Dist_MHWbay</th>\n",
       "      <th>DistSegDH</th>\n",
       "      <th>DistSegDL</th>\n",
       "      <th>DistSegArm</th>\n",
       "      <th>ptZ</th>\n",
       "      <th>ptSlp</th>\n",
       "      <th>...</th>\n",
       "      <th>WidthLand</th>\n",
       "      <th>WidthFull</th>\n",
       "      <th>uBW</th>\n",
       "      <th>uBH</th>\n",
       "      <th>ub_feat</th>\n",
       "      <th>mean_Zmhw</th>\n",
       "      <th>max_Zmhw</th>\n",
       "      <th>Construction</th>\n",
       "      <th>Development</th>\n",
       "      <th>Nourishment</th>\n",
       "    </tr>\n",
       "  </thead>\n",
       "  <tbody>\n",
       "    <tr>\n",
       "      <th>677</th>\n",
       "      <td>677</td>\n",
       "      <td>421657.456451</td>\n",
       "      <td>4.628551e+06</td>\n",
       "      <td>430.000000</td>\n",
       "      <td>251.789638</td>\n",
       "      <td>364.696296</td>\n",
       "      <td>396.156169</td>\n",
       "      <td>-99999.0</td>\n",
       "      <td>0.176875</td>\n",
       "      <td>0.191876</td>\n",
       "      <td>...</td>\n",
       "      <td>681.789638</td>\n",
       "      <td>681.789638</td>\n",
       "      <td>33.522455</td>\n",
       "      <td>1.804328</td>\n",
       "      <td>DL</td>\n",
       "      <td>-0.117013</td>\n",
       "      <td>4.665625</td>\n",
       "      <td>-99999.0</td>\n",
       "      <td>-99999.0</td>\n",
       "      <td>-99999.0</td>\n",
       "    </tr>\n",
       "    <tr>\n",
       "      <th>19280</th>\n",
       "      <td>19280</td>\n",
       "      <td>420601.501846</td>\n",
       "      <td>4.635449e+06</td>\n",
       "      <td>245.000000</td>\n",
       "      <td>23.224328</td>\n",
       "      <td>202.640771</td>\n",
       "      <td>228.312314</td>\n",
       "      <td>-99999.0</td>\n",
       "      <td>21.239374</td>\n",
       "      <td>0.412930</td>\n",
       "      <td>...</td>\n",
       "      <td>268.224328</td>\n",
       "      <td>268.224328</td>\n",
       "      <td>15.954367</td>\n",
       "      <td>2.558799</td>\n",
       "      <td>DL</td>\n",
       "      <td>18.389421</td>\n",
       "      <td>21.628124</td>\n",
       "      <td>-99999.0</td>\n",
       "      <td>-99999.0</td>\n",
       "      <td>-99999.0</td>\n",
       "    </tr>\n",
       "    <tr>\n",
       "      <th>6885</th>\n",
       "      <td>6885</td>\n",
       "      <td>420985.929436</td>\n",
       "      <td>4.630474e+06</td>\n",
       "      <td>912.542806</td>\n",
       "      <td>-738.937300</td>\n",
       "      <td>876.939661</td>\n",
       "      <td>894.563989</td>\n",
       "      <td>-99999.0</td>\n",
       "      <td>0.768750</td>\n",
       "      <td>4.129233</td>\n",
       "      <td>...</td>\n",
       "      <td>1242.499026</td>\n",
       "      <td>1495.041831</td>\n",
       "      <td>13.593751</td>\n",
       "      <td>1.062106</td>\n",
       "      <td>DL</td>\n",
       "      <td>-0.238681</td>\n",
       "      <td>2.690000</td>\n",
       "      <td>-99999.0</td>\n",
       "      <td>-99999.0</td>\n",
       "      <td>-99999.0</td>\n",
       "    </tr>\n",
       "    <tr>\n",
       "      <th>11487</th>\n",
       "      <td>11487</td>\n",
       "      <td>421527.724418</td>\n",
       "      <td>4.631514e+06</td>\n",
       "      <td>70.000000</td>\n",
       "      <td>279.442746</td>\n",
       "      <td>46.929876</td>\n",
       "      <td>23.253047</td>\n",
       "      <td>-99999.0</td>\n",
       "      <td>2.732500</td>\n",
       "      <td>5.636892</td>\n",
       "      <td>...</td>\n",
       "      <td>1338.495324</td>\n",
       "      <td>1742.514044</td>\n",
       "      <td>43.095753</td>\n",
       "      <td>1.661561</td>\n",
       "      <td>DL</td>\n",
       "      <td>-0.028853</td>\n",
       "      <td>2.948125</td>\n",
       "      <td>-99999.0</td>\n",
       "      <td>-99999.0</td>\n",
       "      <td>-99999.0</td>\n",
       "    </tr>\n",
       "    <tr>\n",
       "      <th>12909</th>\n",
       "      <td>12909</td>\n",
       "      <td>421519.898881</td>\n",
       "      <td>4.631816e+06</td>\n",
       "      <td>35.000000</td>\n",
       "      <td>631.545913</td>\n",
       "      <td>10.987423</td>\n",
       "      <td>19.704773</td>\n",
       "      <td>-99999.0</td>\n",
       "      <td>3.263750</td>\n",
       "      <td>6.621521</td>\n",
       "      <td>...</td>\n",
       "      <td>1097.523274</td>\n",
       "      <td>1212.624246</td>\n",
       "      <td>15.281707</td>\n",
       "      <td>1.718260</td>\n",
       "      <td>DL</td>\n",
       "      <td>-0.255198</td>\n",
       "      <td>2.819375</td>\n",
       "      <td>-99999.0</td>\n",
       "      <td>-99999.0</td>\n",
       "      <td>-99999.0</td>\n",
       "    </tr>\n",
       "  </tbody>\n",
       "</table>\n",
       "<p>5 rows × 54 columns</p>\n",
       "</div>"
      ],
      "text/plain": [
       "       SplitSort          seg_x         seg_y    Dist_Seg  Dist_MHWbay  \\\n",
       "677          677  421657.456451  4.628551e+06  430.000000   251.789638   \n",
       "19280      19280  420601.501846  4.635449e+06  245.000000    23.224328   \n",
       "6885        6885  420985.929436  4.630474e+06  912.542806  -738.937300   \n",
       "11487      11487  421527.724418  4.631514e+06   70.000000   279.442746   \n",
       "12909      12909  421519.898881  4.631816e+06   35.000000   631.545913   \n",
       "\n",
       "        DistSegDH   DistSegDL  DistSegArm        ptZ     ptSlp     ...       \\\n",
       "677    364.696296  396.156169    -99999.0   0.176875  0.191876     ...        \n",
       "19280  202.640771  228.312314    -99999.0  21.239374  0.412930     ...        \n",
       "6885   876.939661  894.563989    -99999.0   0.768750  4.129233     ...        \n",
       "11487   46.929876   23.253047    -99999.0   2.732500  5.636892     ...        \n",
       "12909   10.987423   19.704773    -99999.0   3.263750  6.621521     ...        \n",
       "\n",
       "         WidthLand    WidthFull        uBW       uBH  ub_feat  mean_Zmhw  \\\n",
       "677     681.789638   681.789638  33.522455  1.804328       DL  -0.117013   \n",
       "19280   268.224328   268.224328  15.954367  2.558799       DL  18.389421   \n",
       "6885   1242.499026  1495.041831  13.593751  1.062106       DL  -0.238681   \n",
       "11487  1338.495324  1742.514044  43.095753  1.661561       DL  -0.028853   \n",
       "12909  1097.523274  1212.624246  15.281707  1.718260       DL  -0.255198   \n",
       "\n",
       "        max_Zmhw  Construction  Development  Nourishment  \n",
       "677     4.665625      -99999.0     -99999.0     -99999.0  \n",
       "19280  21.628124      -99999.0     -99999.0     -99999.0  \n",
       "6885    2.690000      -99999.0     -99999.0     -99999.0  \n",
       "11487   2.948125      -99999.0     -99999.0     -99999.0  \n",
       "12909   2.819375      -99999.0     -99999.0     -99999.0  \n",
       "\n",
       "[5 rows x 54 columns]"
      ]
     },
     "execution_count": 12,
     "metadata": {},
     "output_type": "execute_result"
    }
   ],
   "source": [
    "# Recode\n",
    "pts_df4csv = pts_df.replace({'SubType': {7777:'{1111, 2222}', 1000:'{1111, 3333}'}, \n",
    "                              'VegType': {77:'{11, 22}', 88:'{22, 33}', 99:'{33, 44}'},\n",
    "                              'VegDens': {666: '{111, 222}', 777: '{222, 333}', \n",
    "                                          888: '{333, 444}', 999: '{222, 333, 444}'}})\n",
    "\n",
    "# Fill NAs\n",
    "pts_df4csv.fillna(fill, inplace=True) \n",
    "\n",
    "# Save and view sample\n",
    "pts_df4csv.to_pickle(os.path.join(scratch_dir, pts_name+'_csv.pkl'))\n",
    "pts_df4csv.sample(5)"
   ]
  },
  {
   "cell_type": "markdown",
   "metadata": {},
   "source": [
    "## Quality checking\n",
    "Look at extracted profiles from around the island. Enter the transect ID within the available range when prompted. Evaluate the plots for consistency among variables. Repeat various times until you can be satisfied that the variables are consistent with each other and appear to represent reality. View areas with inconsistencies in a GIS."
   ]
  },
  {
   "cell_type": "code",
   "execution_count": 13,
   "metadata": {
    "scrolled": false
   },
   "outputs": [
    {
     "data": {
      "image/png": "[encoded data removed]",
      "text/plain": [
       "<matplotlib.figure.Figure at 0x22da73e6ef0>"
      ]
     },
     "metadata": {},
     "output_type": "display_data"
    }
   ],
   "source": [
    "desccols = ['DL_zmhw', 'DH_zmhw', 'Arm_zmhw', 'uBW', 'uBH', 'Dist2Inlet', \n",
    "            'WidthPart', 'WidthLand', 'WidthFull', 'mean_Zmhw', 'max_Zmhw']\n",
    "\n",
    "# Histograms\n",
    "trans_df.hist(desccols, sharey=True, figsize=[15, 10], bins=20)\n",
    "plt.show()\n",
    "plt.close('all')"
   ]
  },
  {
   "cell_type": "code",
   "execution_count": 14,
   "metadata": {
    "scrolled": false
   },
   "outputs": [
    {
     "data": {
      "image/png": "[encoded data removed]",
      "text/plain": [
       "<matplotlib.figure.Figure at 0x22da2bee240>"
      ]
     },
     "metadata": {},
     "output_type": "display_data"
    },
    {
     "data": {
      "image/png": "[encoded data removed]",
      "text/plain": [
       "<matplotlib.figure.Figure at 0x22da8153240>"
      ]
     },
     "metadata": {},
     "output_type": "display_data"
    }
   ],
   "source": [
    "flds_dist = ['SplitSort', 'Dist_Seg', 'Dist_MHWbay', 'DistSegDH', 'DistSegDL', 'DistSegArm']\n",
    "flds_z = ['ptZmhw', 'ptZ', 'ptSlp']\n",
    "pts_df.loc[:,flds_dist+flds_z].describe()\n",
    "pts_df.hist(flds_dist, sharey=True, figsize=[15, 8], layout=(2,3))\n",
    "pts_df.hist(flds_z, sharey=True, figsize=[15, 4], layout=(1,3))\n",
    "plt.show()\n",
    "plt.close('all')"
   ]
  },
  {
   "cell_type": "code",
   "execution_count": 15,
   "metadata": {},
   "outputs": [
    {
     "name": "stdout",
     "output_type": "stream",
     "text": [
      "Transect ID (\"sort_ID\" 1-158): 20\n"
     ]
    },
    {
     "data": {
      "image/png": "[encoded data removed]",
      "text/plain": [
       "<matplotlib.figure.Figure at 0x22da7a86160>"
      ]
     },
     "metadata": {},
     "output_type": "display_data"
    }
   ],
   "source": [
    "# Prompt for transect identifier (sort_ID) and get all points from that transect.\n",
    "trans_in = int(input('Transect ID (\"sort_ID\" {:d}-{:d}): '.format(int(pts_df[tID_fld].head(1)), int(pts_df[tID_fld].tail(1)))))\n",
    "pts_set = pts_df[pts_df[tID_fld] == trans_in]\n",
    "\n",
    "# Plot\n",
    "fig = plt.figure(figsize=(13,10))\n",
    "\n",
    "# Plot the width of the island.\n",
    "ax1 = fig.add_subplot(211)\n",
    "try:\n",
    "    fun.plot_island_profile(ax1, pts_set, sitevals['MHW'], sitevals['MTL'])\n",
    "except TypeError as err:\n",
    "    print('TypeError: {}'.format(err))\n",
    "    pass\n",
    "\n",
    "# Zoom in on the upper beach.\n",
    "ax2 = fig.add_subplot(212)\n",
    "try:\n",
    "    fun.plot_beach_profile(ax2, pts_set, sitevals['MHW'], sitevals['MTL'], maxDH)\n",
    "except TypeError as err:\n",
    "    print('TypeError: {}'.format(err))\n",
    "    pass \n",
    "\n",
    "# Display\n",
    "plt.show()\n",
    "plt.close('all')"
   ]
  },
  {
   "cell_type": "markdown",
   "metadata": {},
   "source": [
    "## Outputs\n",
    "\n",
    "### Transect-averaged\n",
    "Output the transect-averaged metrics in the following formats:\n",
    "- transects, unpopulated except for ID values, as gdb feature class\n",
    "- transects, unpopulated except for ID values, as shapefile\n",
    "- populated transects with fill values as gdb feature class\n",
    "- populated transects with null values as gdb feature class\n",
    "- populated transects with fill values as shapefile\n",
    "- raster of beach width (__uBW__) by transect"
   ]
  },
  {
   "cell_type": "code",
   "execution_count": 16,
   "metadata": {
    "collapsed": true
   },
   "outputs": [],
   "source": [
    "# Load the dataframe\n",
    "trans_df = pd.read_pickle(os.path.join(scratch_dir, trans_name+'_null.pkl'))"
   ]
  },
  {
   "cell_type": "markdown",
   "metadata": {},
   "source": [
    "#### Vector format"
   ]
  },
  {
   "cell_type": "code",
   "execution_count": 17,
   "metadata": {},
   "outputs": [
    {
     "name": "stdout",
     "output_type": "stream",
     "text": [
      "Created cg_trans from input dataframe and CoastGuard2014_extTrans file.\n",
      "OUTPUT: cg_trans.shp in specified scratch_dir.\n"
     ]
    }
   ],
   "source": [
    "# Create transect file with only ID values and geometry to publish.\n",
    "trans_flds = ['TRANSECTID', 'TRANSORDER', 'DD_ID']\n",
    "trans_4pub = fwa.JoinDFtoFC(trans_df.loc[:,trans_flds], extendedTrans, tID_fld, out_fc=sitevals['code']+'_trans')\n",
    "out_shp = arcpy.FeatureClassToFeatureClass_conversion(trans_4pub, scratch_dir, sitevals['code']+'_trans.shp')\n",
    "print(\"OUTPUT: {} in specified scratch_dir.\".format(os.path.basename(str(out_shp))))"
   ]
  },
  {
   "cell_type": "code",
   "execution_count": 18,
   "metadata": {},
   "outputs": [
    {
     "name": "stdout",
     "output_type": "stream",
     "text": [
      "Created cg14_trans_fill from input dataframe and CoastGuard2014_extTrans file.\n",
      "OUTPUT: cg14_trans_null\n",
      "OUTPUT: cg14_trans_shp.shp in specified scratch_dir.\n"
     ]
    }
   ],
   "source": [
    "# Create transect FC with fill values - Join values from trans_df to the transect FC as a new file.\n",
    "trans_fc = fwa.JoinDFtoFC(trans_df, extendedTrans, tID_fld, out_fc=trans_name+'_fill')\n",
    "\n",
    "# Create transect FC with null values\n",
    "fwa.CopyFCandReplaceValues(trans_fc, fill, None, out_fc=trans_name+'_null', out_dir=home)\n",
    "\n",
    "# Save final transect SHP with fill values\n",
    "out_shp = arcpy.FeatureClassToFeatureClass_conversion(trans_fc, scratch_dir, trans_name+'_shp.shp')\n",
    "print(\"OUTPUT: {} in specified scratch_dir.\".format(os.path.basename(str(out_shp))))"
   ]
  },
  {
   "cell_type": "markdown",
   "metadata": {},
   "source": [
    "#### Raster - beach width"
   ]
  },
  {
   "cell_type": "code",
   "execution_count": 19,
   "metadata": {},
   "outputs": [
    {
     "name": "stdout",
     "output_type": "stream",
     "text": [
      "CoastGuard_rstTransID was not found so we will create the base raster.\n",
      "OUTPUT: cg14_ubw. Field \"Value\" is ID and \"uBW\" is beachwidth.\n"
     ]
    }
   ],
   "source": [
    "# Create a template raster corresponding to the transects. \n",
    "if not arcpy.Exists(rst_transID):\n",
    "    print(\"{} was not found so we will create the base raster.\".format(os.path.basename(rst_transID)))\n",
    "    outEucAll = arcpy.sa.EucAllocation(extTrans_tidy, maximum_distance=50, cell_size=cell_size, source_field=tID_fld)\n",
    "    outEucAll.save(os.path.basename(rst_transID))\n",
    "\n",
    "# Create raster of uBW values by joining trans_df to the template raster.\n",
    "out_rst = fwa.JoinDFtoRaster(trans_df, os.path.basename(rst_transID), bw_rst, fill, tID_fld, 'uBW')"
   ]
  },
  {
   "cell_type": "markdown",
   "metadata": {},
   "source": [
    "### 5-m points\n",
    "\n",
    "Output the point metrics in the following formats:\n",
    "- tabular, in CSV\n",
    "- populated points with fill values as gdb feature class\n",
    "- populated points with null values as gdb feature class\n",
    "- populated points with fill values as shapefile"
   ]
  },
  {
   "cell_type": "code",
   "execution_count": 20,
   "metadata": {
    "collapsed": true,
    "scrolled": false
   },
   "outputs": [],
   "source": [
    "# Load the saved dataframes\n",
    "pts_df4csv = pd.read_pickle(os.path.join(scratch_dir, pts_name+'_csv.pkl'))\n",
    "pts_df = pd.read_pickle(os.path.join(scratch_dir, pts_name+'_null.pkl'))"
   ]
  },
  {
   "cell_type": "markdown",
   "metadata": {},
   "source": [
    "#### Tabular format"
   ]
  },
  {
   "cell_type": "code",
   "execution_count": 21,
   "metadata": {
    "scrolled": true
   },
   "outputs": [
    {
     "name": "stdout",
     "output_type": "stream",
     "text": [
      "OUTPUT: cg14_pts.csv in specified scratch_dir.\n"
     ]
    }
   ],
   "source": [
    "# Save CSV in scratch_dir\n",
    "csv_fname = os.path.join(scratch_dir, pts_name +'.csv')\n",
    "pts_df4csv.to_csv(csv_fname, na_rep=fill, index=False)\n",
    "print(\"OUTPUT: {} in specified scratch_dir.\".format(os.path.basename(csv_fname)))"
   ]
  },
  {
   "cell_type": "markdown",
   "metadata": {},
   "source": [
    "#### Vector format"
   ]
  },
  {
   "cell_type": "code",
   "execution_count": 22,
   "metadata": {},
   "outputs": [
    {
     "name": "stdout",
     "output_type": "stream",
     "text": [
      "Converting points DF to FC...\n",
      "OUTPUT: cg14_pts_fill\n",
      "Duration: 0:0:31.7 seconds\n",
      "OUTPUT: cg14_pts_null\n",
      "OUTPUT: cg14_pts_shp.shp in specified scratch_dir.\n"
     ]
    }
   ],
   "source": [
    "# Convert pts_df to FC - automatically converts NaNs to fills (default fill is -99999)\n",
    "pts_fc = fwa.DFtoFC_large(pts_df, out_fc=os.path.join(arcpy.env.workspace, pts_name+'_fill'), \n",
    "                          spatial_ref=utmSR, df_id=pID_fld, xy=[\"seg_x\", \"seg_y\"])\n",
    "\n",
    "# Save final FCs with null values\n",
    "fwa.CopyFCandReplaceValues(pts_fc, fill, None, out_fc=pts_name+'_null', out_dir=home)\n",
    "\n",
    "# Save final points as SHP with fill values\n",
    "out_pts_shp = arcpy.FeatureClassToFeatureClass_conversion(pts_fc, scratch_dir, pts_name+'_shp.shp')\n",
    "print(\"OUTPUT: {} in specified scratch_dir.\".format(os.path.basename(str(out_pts_shp))))"
   ]
  },
  {
   "cell_type": "markdown",
   "metadata": {},
   "source": [
    "### Report field values"
   ]
  },
  {
   "cell_type": "code",
   "execution_count": 23,
   "metadata": {
    "scrolled": false
   },
   "outputs": [
    {
     "name": "stdout",
     "output_type": "stream",
     "text": [
      "CoastGuard2014 -- Number of points in dataset: (19551, 54)\n",
      "SplitSort min|max: 0  |  19550\n",
      "seg_x min|max: 419805.3283768911  |  422122.8152933568\n",
      "seg_y min|max: 4628031.484705089  |  4635752.577170718\n",
      "Dist_Seg min|max: -99999.0  |  1802.1178630348447\n",
      "Dist_MHWbay min|max: -99999.0  |  1175.2556951173153\n",
      "DistSegDH min|max: -99999.0  |  1757.3943885463443\n",
      "DistSegDL min|max: -99999.0  |  1692.2717663090386\n",
      "DistSegArm min|max: -99999.0  |  -99999.0\n",
      "ptZ min|max: -99999.0  |  23.25874900817871\n",
      "ptSlp min|max: -99999.0  |  105.57341766357422\n",
      "ptZmhw min|max: -99999.0  |  22.278749465942383\n",
      "GeoSet values: -99999.0\n",
      "SubType values: -99999.0\n",
      "VegDens values: -99999.0\n",
      "VegType values: -99999.0\n",
      "sort_ID min|max: 1.0  |  158.0\n",
      "TRANSORDER min|max: -99999.0  |  785.0\n",
      "TRANSECTID min|max: -99999.0  |  782.0\n",
      "DD_ID min|max: 50001  |  50158\n",
      "LRR min|max: -99999.0  |  0.73\n",
      "SL_x min|max: -99999.0  |  422122.8152933568\n",
      "SL_y min|max: -99999.0  |  4635752.577170718\n"
     ]
    },
    {
     "ename": "TypeError",
     "evalue": "'<' not supported between instances of 'int' and 'str'",
     "output_type": "error",
     "traceback": [
      "\u001b[1;31m---------------------------------------------------------------------------\u001b[0m",
      "\u001b[1;31mTypeError\u001b[0m                                 Traceback (most recent call last)",
      "\u001b[1;32m<ipython-input-23-6a45e6179c73>\u001b[0m in \u001b[0;36m<module>\u001b[1;34m()\u001b[0m\n\u001b[0;32m      5\u001b[0m     \u001b[1;32melse\u001b[0m\u001b[1;33m:\u001b[0m\u001b[1;33m\u001b[0m\u001b[0m\n\u001b[0;32m      6\u001b[0m         \u001b[1;32mif\u001b[0m \u001b[1;32mnot\u001b[0m \u001b[0many\u001b[0m\u001b[1;33m(\u001b[0m\u001b[0mpd\u001b[0m\u001b[1;33m.\u001b[0m\u001b[0misnull\u001b[0m\u001b[1;33m(\u001b[0m\u001b[0mpts_df4csv\u001b[0m\u001b[1;33m.\u001b[0m\u001b[0mloc\u001b[0m\u001b[1;33m[\u001b[0m\u001b[1;33m:\u001b[0m\u001b[1;33m,\u001b[0m\u001b[0mfld\u001b[0m\u001b[1;33m]\u001b[0m\u001b[1;33m)\u001b[0m\u001b[1;33m)\u001b[0m\u001b[1;33m:\u001b[0m\u001b[1;33m\u001b[0m\u001b[0m\n\u001b[1;32m----> 7\u001b[1;33m             \u001b[0mmn\u001b[0m \u001b[1;33m=\u001b[0m \u001b[0mmin\u001b[0m\u001b[1;33m(\u001b[0m\u001b[0mpts_df4csv\u001b[0m\u001b[1;33m.\u001b[0m\u001b[0mloc\u001b[0m\u001b[1;33m[\u001b[0m\u001b[1;33m:\u001b[0m\u001b[1;33m,\u001b[0m\u001b[0mfld\u001b[0m\u001b[1;33m]\u001b[0m\u001b[1;33m)\u001b[0m\u001b[1;33m\u001b[0m\u001b[0m\n\u001b[0m\u001b[0;32m      8\u001b[0m         \u001b[1;32melse\u001b[0m\u001b[1;33m:\u001b[0m\u001b[1;33m\u001b[0m\u001b[0m\n\u001b[0;32m      9\u001b[0m             \u001b[0mmn\u001b[0m \u001b[1;33m=\u001b[0m \u001b[1;33m-\u001b[0m\u001b[1;36m99999\u001b[0m\u001b[1;33m\u001b[0m\u001b[0m\n",
      "\u001b[1;31mTypeError\u001b[0m: '<' not supported between instances of 'int' and 'str'"
     ]
    }
   ],
   "source": [
    "print('{}{} -- Number of points in dataset: {}'.format(site, year, pts_df4csv.shape))\n",
    "for fld in pts_df4csv.columns:\n",
    "    if fld in ['GeoSet', 'SubType', 'VegDens', 'VegType', 'Construction', 'Development', 'Nourishment', 'ub_feat']:\n",
    "        print('{} values: {}'.format(fld, '  |  '.join(str(x) for x in pts_df4csv.loc[:,fld].unique())))\n",
    "    else:\n",
    "        if not any(pd.isnull(pts_df4csv.loc[:,fld])):\n",
    "            mn = min(pts_df4csv.loc[:,fld])\n",
    "        else:\n",
    "            mn = -99999\n",
    "        mx = np.max(pts_df4csv.loc[:,fld])\n",
    "        print('{} min|max: {}  |  {}'.format(fld, mn, mx))"
   ]
  },
  {
   "cell_type": "code",
   "execution_count": null,
   "metadata": {
    "collapsed": true
   },
   "outputs": [],
   "source": []
  }
 ],
 "metadata": {
  "anaconda-cloud": {},
  "kernelspec": {
   "display_name": "Python 3",
   "language": "python",
   "name": "python3"
  },
  "language_info": {
   "codemirror_mode": {
    "name": "ipython",
    "version": 3
   },
   "file_extension": ".py",
   "mimetype": "text/x-python",
   "name": "python",
   "nbconvert_exporter": "python",
   "pygments_lexer": "ipython3",
   "version": "3.6.2"
  }
 },
 "nbformat": 4,
 "nbformat_minor": 2
}
