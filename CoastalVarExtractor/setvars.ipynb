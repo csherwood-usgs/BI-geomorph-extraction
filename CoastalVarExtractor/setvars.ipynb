{
 "cells": [
  {
   "cell_type": "markdown",
   "metadata": {},
   "source": [
    "# Initialize variables for DeepDive Transect Extraction (CoastalVarExtractor module)\n",
    "Author: Emily Sturdivant; esturdivant@usgs.gov\n",
    "\n",
    "***\n",
    "\n",
    "You must run this notebook within the ArcGIS Pro conda environment. To do so, type the following in your command prompt (assuming it has the default set-up and submitting path\\to\\dir with the location of the repository):\n",
    "\n",
    "```bat\n",
    "cd path\\to\\dir\\BI-geomorph-extraction\n",
    "\\ArcGIS\\Pro\\bin\\Python\\Scripts\\proenv\n",
    "jupyter notebook\n",
    "```\n",
    "\n",
    "## Import modules"
   ]
  },
  {
   "cell_type": "code",
   "execution_count": 9,
   "metadata": {
    "collapsed": true
   },
   "outputs": [],
   "source": [
    "import os\n",
    "import sys\n",
    "import arcpy\n",
    "from configmap import *"
   ]
  },
  {
   "cell_type": "markdown",
   "metadata": {},
   "source": [
    "## Input site, year, and project folder"
   ]
  },
  {
   "cell_type": "code",
   "execution_count": 12,
   "metadata": {
    "collapsed": true
   },
   "outputs": [],
   "source": [
    "site = 'FireIsland'\n",
    "year = '2014'\n",
    "# proj_dir = os.path.join(r'\\\\Mac', 'stor', 'Projects', 'TransectExtraction', '{}'.format(site+year))\n",
    "proj_dir = r'\\\\Mac\\stor\\Projects\\TransectExtraction\\{}'.format(site+year)\n",
    "SiteYear_strings = siteyear[site+year] # get siteyear dict from configmap"
   ]
  },
  {
   "cell_type": "markdown",
   "metadata": {},
   "source": [
    "## Set-up project folder"
   ]
  },
  {
   "cell_type": "code",
   "execution_count": 26,
   "metadata": {
    "collapsed": true
   },
   "outputs": [],
   "source": [
    "home = os.path.join(proj_dir, '{site}{year}.gdb'.format(**SiteYear_strings))\n",
    "scratch_dir = os.path.join(proj_dir, 'scratch')\n",
    "final_dir = os.path.join(proj_dir, 'Extracted_Data')\n",
    "try:\n",
    "    os.makedirs(proj_dir)\n",
    "except OSError:\n",
    "    if not os.path.isdir(proj_dir):\n",
    "        raise\n",
    "        \n",
    "arcpy.env.workspace = home\n",
    "arcpy.env.scratchWorkspace = proj_dir\n",
    "\n",
    "# set environments\n",
    "arcpy.env.overwriteOutput = True         # Overwrite output?\n",
    "arcpy.CheckOutExtension(\"Spatial\")       # Checkout Spatial Analysis extension"
   ]
  },
  {
   "cell_type": "markdown",
   "metadata": {},
   "source": [
    "## Set spatial reference"
   ]
  },
  {
   "cell_type": "code",
   "execution_count": 25,
   "metadata": {
    "collapsed": true
   },
   "outputs": [],
   "source": [
    "if (SiteYear_strings['region'] == 'Massachusetts' \n",
    "    or SiteYear_strings['region'] == 'RhodeIsland' \n",
    "    or SiteYear_strings['region'] == 'Maine'):\n",
    "    proj_code = 26919 # \"NAD 1983 UTM Zone 19N\"\n",
    "else:\n",
    "    proj_code = 26918 # \"NAD 1983 UTM Zone 18N\"\n",
    "\n",
    "nad83 = arcpy.SpatialReference(4269)\n",
    "utmSR = arcpy.SpatialReference(proj_code)"
   ]
  },
  {
   "cell_type": "markdown",
   "metadata": {},
   "source": [
    "## Default values"
   ]
  },
  {
   "cell_type": "code",
   "execution_count": 17,
   "metadata": {
    "collapsed": true
   },
   "outputs": [],
   "source": [
    "tID_fld = \"sort_ID\"                      # name of transect ID field\n",
    "pID_fld = \"SplitSort\"                    # name of point ID field\n",
    "extendlength = 3000                      # distance (m) by which to extend transects\n",
    "fill = -99999                            # Nulls will be replaced with this fill value\n",
    "cell_size = 5                            # Cell size for raster outputs\n",
    "pt2trans_disttolerance = 25              # Maximum distance between transect and point for assigning values; originally 10 m\n",
    "if SiteYear_strings['site'] == 'Monomoy':\n",
    "    maxDH = 3\n",
    "else:\n",
    "    maxDH = 2.5\n",
    "\n",
    "MHW = SiteYear_strings['MHW']\n",
    "MLW = SiteYear_strings['MLW']\n",
    "dMHW = -MHW                         # Beach height adjustment\n",
    "oMLW = MHW-MLW                      # MLW offset from MHW # Beach height adjustment (relative to MHW)\n",
    "SiteYear_strings['MTL'] = MTL = (MHW+MLW)/2"
   ]
  },
  {
   "cell_type": "markdown",
   "metadata": {},
   "source": [
    "## Default input file names"
   ]
  },
  {
   "cell_type": "code",
   "execution_count": 18,
   "metadata": {
    "collapsed": true
   },
   "outputs": [],
   "source": [
    "orig_trans = '{site}_LTorig'.format(**SiteYear_strings)\n",
    "ShorelinePts = '{site}{year}_SLpts'.format(**SiteYear_strings)\n",
    "dhPts = '{site}{year}_DHpts'.format(**SiteYear_strings)\t\t\t\t# Dune crest\n",
    "dlPts = '{site}{year}_DLpts'.format(**SiteYear_strings) \t\t  # Dune toe\n",
    "elevGrid = '{site}{year}_DEM'.format(**SiteYear_strings)\t\t\t\t# Elevation"
   ]
  },
  {
   "cell_type": "markdown",
   "metadata": {},
   "source": [
    "## Outputs"
   ]
  },
  {
   "cell_type": "code",
   "execution_count": 20,
   "metadata": {
    "collapsed": true
   },
   "outputs": [],
   "source": [
    "inletLines = '{site}{year}_inletLines'.format(**SiteYear_strings)         # delineated inlets\n",
    "armorLines = '{site}{year}_armor'.format(**SiteYear_strings)              # delineated shorefront armoring to suplement dlows\n",
    "bndMTL = '{site}{year}_bndpoly_mtl'.format(**SiteYear_strings)            # polygon at MTL contour line; intermediate product\n",
    "bndMHW = '{site}{year}_bndpoly_mhw'.format(**SiteYear_strings)            # polygon at MHW contour line; intermediate product\n",
    "bndpoly = '{site}{year}_bndpoly'.format(**SiteYear_strings)               # polygon combined MTL and MHW contour line; before snapped to SLpts\n",
    "barrierBoundary = '{site}{year}_bndpoly_2sl'.format(**SiteYear_strings)   # Barrier Boundary polygon; create with TE_createBoundaryPolygon.py\n",
    "dh2trans = '{site}{year}_DH2trans'.format(**SiteYear_strings)             # DHigh within 25 m\n",
    "dl2trans = '{site}{year}_DL2trans'.format(**SiteYear_strings)             # DLow within 25 m\n",
    "arm2trans = '{site}{year}_arm2trans'.format(**SiteYear_strings)           # XYZ position of armoring along transect\n",
    "shl2trans = '{site}{year}_SHL2trans'.format(**SiteYear_strings)           # beach slope from lidar within 10m of transect\n",
    "shoreline = '{site}{year}_ShoreBetweenInlets'.format(**SiteYear_strings)  # Complete shoreline ready to become route in Pt. 2\n",
    "elevGrid_5m = elevGrid+'_5m'                                              # Elevation resampled to 5 m grids\n",
    "slopeGrid = '{site}{year}_slope_5m'.format(**SiteYear_strings)            # Slope in 5 m grids\n",
    "\n",
    "# Transects\n",
    "extendedTransects = '{site}{year}_extTrans_working'.format(**SiteYear_strings)\n",
    "extTrans_tidy = \"{site}_tidyTrans\".format(**SiteYear_strings)\n",
    "extendedTrans = \"{site}{year}_extTrans\".format(**SiteYear_strings)\n",
    "tidy_clipped = \"{site}{year}_tidyTrans_clipped\".format(**SiteYear_strings)\n",
    "extTrans_fill = '{site}{year}_extTrans_fill'.format(**SiteYear_strings)\n",
    "extTrans_null = '{site}{year}_extTrans_null'.format(**SiteYear_strings)\n",
    "extTrans_shp = '{site}{year}_extTrans_shp'.format(**SiteYear_strings)\n",
    "\n",
    "# Points\n",
    "transPts_presort = '{site}{year}_5mPts_unsorted'.format(**SiteYear_strings)\n",
    "transPts = '{site}{year}_transPts_working'.format(**SiteYear_strings) \t# Outputs Transect Segment points\n",
    "transPts_null = '{site}{year}_transPts_null'.format(**SiteYear_strings)\n",
    "transPts_fill= '{site}{year}_transPts_fill'.format(**SiteYear_strings)\n",
    "transPts_shp = '{site}{year}_transPts_shp'.format(**SiteYear_strings)\n",
    "pts_elevslope = 'transPts_ZmhwSlp'\n",
    "\n",
    "# Rasters\n",
    "rst_transID = \"{site}_rstTransID\".format(**SiteYear_strings)\n",
    "rst_transIDpath = os.path.join(home, rst_transID)\n",
    "rst_transPopulated = \"{site}{year}_rstTrans_populated\".format(**SiteYear_strings)\n",
    "rst_transgrid_path = os.path.join(scratch_dir, \"{code}_trans\".format(**SiteYear_strings))\n",
    "rst_bwgrid_path = os.path.join(home, \"{code}\".format(**SiteYear_strings))\n",
    "bw_rst=\"{code}_ubw\".format(**SiteYear_strings)"
   ]
  },
  {
   "cell_type": "markdown",
   "metadata": {},
   "source": [
    "## Field names"
   ]
  },
  {
   "cell_type": "code",
   "execution_count": 27,
   "metadata": {},
   "outputs": [],
   "source": [
    "trans_flds0 = ['sort_ID','TRANSORDER', 'TRANSECTID', 'LRR', 'LR2', 'LSE', 'LCI90']\n",
    "trans_flds_arc = ['SL_Lat', 'SL_Lon', 'SL_x', 'SL_y', 'Bslope',\n",
    "    'DL_Lat', 'DL_Lon', 'DL_x', 'DL_y', 'DL_z', 'DL_zMHW',\n",
    "    'DH_Lat', 'DH_Lon', 'DH_x', 'DH_y', 'DH_z', 'DH_zMHW',\n",
    "    'Arm_Lat', 'Arm_Lon', 'Arm_x', 'Arm_y', 'Arm_z', 'Arm_zMHW',\n",
    "    'DistDH', 'DistDL', 'DistArm',\n",
    "    'Dist2Inlet', 'WidthPart', 'WidthLand', 'WidthFull']\n",
    "trans_flds_arc = ['SL_x', 'SL_y', 'Bslope',\n",
    "    'DL_x', 'DL_y', 'DL_z', 'DL_zMHW', 'DL_snapX','DL_snapY',\n",
    "    'DH_x', 'DH_y', 'DH_z', 'DH_zMHW', 'DH_snapX','DH_snapY',\n",
    "    'Arm_x', 'Arm_y', 'Arm_z', 'Arm_zMHW',\n",
    "    'DistDH', 'DistDL', 'DistArm',\n",
    "    'Dist2Inlet', 'WidthPart', 'WidthLand', 'WidthFull']\n",
    "trans_flds_pd = ['uBW', 'uBH', 'ub_feat', 'mean_Zmhw', 'max_Zmhw']\n",
    "pt_flds_arc = ['ptZ', 'ptSlp']\n",
    "pt_flds_pd = ['seg_x', 'seg_y', 'Dist_Seg','SplitSort',\n",
    "    'Dist_MHWbay', 'DistSegDH', 'DistSegDL', 'DistSegArm', 'ptZmhw']\n",
    "\n",
    "pt_flds = pt_flds_arc + pt_flds_pd + [tID_fld]\n",
    "trans_flds = trans_flds0 + trans_flds_arc + trans_flds_pd\n",
    "\n",
    "extra_fields = [\"StartX\", \"StartY\", \"ORIG_FID\", \"Autogen\", \"ProcTime\",\n",
    "                \"SHAPE_Leng\", \"OBJECTID_1\", \"Shape_Length\", \"EndX\", \"EndY\",\n",
    "                \"BaselineID\", \"OBJECTID\", \"ORIG_OID\", \"TRANSORDER_1\"]\n",
    "extra_fields += [x.upper() for x in extra_fields]\n"
   ]
  },
  {
   "cell_type": "code",
   "execution_count": null,
   "metadata": {
    "collapsed": true
   },
   "outputs": [],
   "source": []
  }
 ],
 "metadata": {
  "kernelspec": {
   "display_name": "Python 3",
   "language": "python",
   "name": "python3"
  },
  "language_info": {
   "codemirror_mode": {
    "name": "ipython",
    "version": 3
   },
   "file_extension": ".py",
   "mimetype": "text/x-python",
   "name": "python",
   "nbconvert_exporter": "python",
   "pygments_lexer": "ipython3",
   "version": "3.5.3"
  }
 },
 "nbformat": 4,
 "nbformat_minor": 2
}
