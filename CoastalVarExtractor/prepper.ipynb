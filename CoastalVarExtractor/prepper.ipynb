{
 "cells": [
  {
   "cell_type": "markdown",
   "metadata": {},
   "source": [
    "# Pre-process input data for coastal variable extraction\n",
    "\n",
    "Author: Emily Sturdivant; esturdivant@usgs.gov\n",
    "\n",
    "***\n",
    "\n",
    "## Basic setup\n",
    "We recommend that you install this package in the ArcGIS Pro conda environment through pip: \n",
    "```\n",
    "\\ArcGIS\\Pro\\bin\\Python\\Scripts\\proenv\n",
    "pip install git+https://github.com/esturdivant-usgs/BI-geomorph-extraction.git\n",
    "```\n",
    "\n",
    "You must run this notebook within the ArcGIS Pro conda environment. To do so, type the following in your command prompt (assuming it has the default set-up and substituting path\\to\\dir with the location of the repository):\n",
    "\n",
    "```bat\n",
    "cd path\\to\\dir\\BI-geomorph-extraction\n",
    "\\ArcGIS\\Pro\\bin\\Python\\Scripts\\proenv\n",
    "jupyter notebook\n",
    "```\n",
    "\n",
    "## Pre-processing steps\n",
    "\n",
    "1. Pre-created geomorphic features: dunes, shoreline points, armoring.\n",
    "2. Inlets\n",
    "3. Shoreline\n",
    "4. Transects - extend and sort\n",
    "5. Transects - tidy"
   ]
  },
  {
   "cell_type": "markdown",
   "metadata": {},
   "source": [
    "#### Import modules\n",
    "\n",
    "Sometimes the user needs to run the code through the ArcPy console (when it involves selecting layers). --- an alternative may be to use the Pro version of the mapping toolbox and say current map document... --- In this case, we need to make sure that ArcGIS can find this package. "
   ]
  },
  {
   "cell_type": "code",
   "execution_count": 1,
   "metadata": {
    "scrolled": true
   },
   "outputs": [
    {
     "name": "stdout",
     "output_type": "stream",
     "text": [
      "Module path is: C:\\Users\\esturdivant\\Code\\BI-geomorph-extraction\\CoastalVarExtractor\n"
     ]
    }
   ],
   "source": [
    "import os\n",
    "import sys\n",
    "import time\n",
    "import shutil\n",
    "import pandas as pd\n",
    "import numpy as np\n",
    "import matplotlib.pyplot as plt\n",
    "import arcpy\n",
    "if os.path.basename(os.getcwd()) == 'CoastalVarExtractor':\n",
    "    print('Module path is: {}'.format(os.getcwd()))\n",
    "    import CoastalVarExtractor.functions_warcpy as fwa"
   ]
  },
  {
   "cell_type": "markdown",
   "metadata": {},
   "source": [
    "If you need to run the code inside the ArcPy console... "
   ]
  },
  {
   "cell_type": "code",
   "execution_count": null,
   "metadata": {
    "collapsed": true
   },
   "outputs": [],
   "source": [
    "mod_path = r\"C:\\Users\\esturdivant\\Code\\BI-geomorph-extraction\" # replace with path to module\n",
    "sys.path.insert(0, mod_path)\n",
    "import CoastalVarExtractor.functions_warcpy as fwa"
   ]
  },
  {
   "cell_type": "markdown",
   "metadata": {},
   "source": [
    "## Initialize variables\n",
    "\n",
    "Based on the project directory, and the site and year you have input, setvars.py will set a bunch of variables as the names of folders, files, and fields. 1) set-up the project folder and paths: "
   ]
  },
  {
   "cell_type": "code",
   "execution_count": 2,
   "metadata": {},
   "outputs": [
    {
     "name": "stdout",
     "output_type": "stream",
     "text": [
      "setvars.py initialized variables.\n"
     ]
    }
   ],
   "source": [
    "from CoastalVarExtractor.setvars import *\n",
    "from CoastalVarExtractor.configmap import *\n",
    "proj_dir = r\"\\\\Mac\\stor\\Projects\\TransectExtraction\\Fisherman2014\"\n",
    "site = \"Fisherman\"\n",
    "year = \"2014\"\n",
    "SiteYear_strings = siteyear[site+year] # get siteyear dict from configmap\n",
    "home = os.path.join(proj_dir, '{site}{year}.gdb'.format(**SiteYear_strings))\n",
    "arcpy.env.workspace = home\n",
    "arcpy.env.scratchWorkspace = proj_dir"
   ]
  },
  {
   "cell_type": "code",
   "execution_count": 3,
   "metadata": {
    "collapsed": true
   },
   "outputs": [],
   "source": [
    "extendedTrans = 'extTrans'\n",
    "inletLines = 'inletLines'\n",
    "ShorelinePts = 'SLpts'\n",
    "dlPts = 'DLpts'\n",
    "dhPts = 'DHpts'\n",
    "armorLines = 'armorLines'\n",
    "elevGrid = 'DEM'\n",
    "elevGrid_5m = 'DEM_5m'\n",
    "\n",
    "extendedTrans = os.path.join(home, 'extTrans')\n",
    "inletLines = os.path.join(home, 'inletLines')\n",
    "ShorelinePts = os.path.join(home, 'SLpts')\n",
    "dlPts = os.path.join(home, 'DLpts')\n",
    "dhPts = os.path.join(home, 'DHpts')\n",
    "armorLines = os.path.join(home, 'armorLines')\n",
    "elevGrid = os.path.join(home, 'DEM')\n",
    "elevGrid_5m = os.path.join(home, 'DEM_5m')"
   ]
  },
  {
   "cell_type": "markdown",
   "metadata": {},
   "source": [
    "## Dunes and armoring <a name=\"geofeatures\"></a>\n",
    "Display the points and the DEM in a GIS to check for irregularities. For example, if shoreline points representing a distance less than X m are visually offset from the general shoreline, they should likely be removed. Another red flag is when the positions of dlows and dhighs in relation to the shore are illogical, i.e. dune crests are seaward of dune toes. \n",
    "\n",
    "#### Replace fill values with Null. "
   ]
  },
  {
   "cell_type": "code",
   "execution_count": null,
   "metadata": {
    "collapsed": true
   },
   "outputs": [],
   "source": [
    "fwa.ReplaceValueInFC(dhPts, oldvalue=fill, newvalue=None, fields=[\"dhigh_z\"])      # Dhighs\n",
    "fwa.ReplaceValueInFC(dlPts, oldvalue=fill, newvalue=None, fields=[\"dlow_z\"])       # Dlows\n",
    "fwa.ReplaceValueInFC(ShorelinePts, oldvalue=fill, newvalue=None, fields=[\"slope\"]) # Shoreline"
   ]
  },
  {
   "cell_type": "markdown",
   "metadata": {},
   "source": [
    "#### Armoring\n",
    "If the dlows do not capture the entire top-of-beach due to atypical formations caused by anthropogenic modification, you may need to digitize the beachfront armoring. The next code block will generate an empty feature class. Refer to the DEM and orthoimagery. If there is no armoring in the study area, continue. If there is armoring, use the Editing toolbar to add lines to the feature class that trace instances of armoring. Common manifestations of what we call armoring are sandfencing and sandbagging and concrete seawalls. \n",
    "\n",
    "If there is no armoring file in the project geodatabase, the extractor script will notify you that it is proceeding without armoring.\n",
    "\n",
    "*__Requires manipulation in GIS__*"
   ]
  },
  {
   "cell_type": "code",
   "execution_count": null,
   "metadata": {
    "collapsed": true
   },
   "outputs": [],
   "source": [
    "arcpy.CreateFeatureclass_management(home, armorLines, 'POLYLINE', spatial_reference=utmSR)\n",
    "print(\"{} created. Now manually digitize the shorefront armoring.\".format(armorLines))"
   ]
  },
  {
   "cell_type": "markdown",
   "metadata": {},
   "source": [
    "## Inlets\n",
    "We also need to manually digitize inlets if an inlet delineation does not already exist. To do, the code will produce the feature class. After which use the Editing toolbar to create a line when the island shore meets a tidal inlet. If the study area includes both sides of an inlet, that inlet will be represented by two lines. The inlet lines are use to define the bounds of the oceanside shore, which is also considered the point where the oceanside shore meets the bayside. Inlet lines must intersect the MHW contour. \n",
    "\n",
    "*__Requires manipulation in GIS__*"
   ]
  },
  {
   "cell_type": "code",
   "execution_count": null,
   "metadata": {
    "collapsed": true
   },
   "outputs": [],
   "source": [
    "# manually create lines that correspond to end of land and cross the MHW line (use bndpoly/DEM)\n",
    "arcpy.CreateFeatureclass_management(home, inletLines, 'POLYLINE', spatial_reference=utmSR)\n",
    "print(\"{} created. Now we'll stop for you to manually create lines at each inlet.\".format(inletLines))"
   ]
  },
  {
   "cell_type": "markdown",
   "metadata": {},
   "source": [
    "## Shoreline\n",
    "The shoreline is produced through a combination of the DEM and the shoreline points. The first step converts the DEM to both MTL and MHW contour polygons. Those polygons are combined to produce the full shoreline, which is considered to fall at MHW on the oceanside and MTL on the bayside (to include partially submerged wetland). User input is required to identify only the areas within the study area and eliminate isolated landmasses that are not. "
   ]
  },
  {
   "cell_type": "code",
   "execution_count": null,
   "metadata": {},
   "outputs": [],
   "source": [
    "bndpoly = fwa.DEMtoFullShorelinePoly(elevGrid_5m, MTL, MHW, inletLines, ShorelinePts)\n",
    "print('Select features from {} that should not be included in {}'.format(bndpoly, barrierBoundary))"
   ]
  },
  {
   "cell_type": "code",
   "execution_count": null,
   "metadata": {
    "collapsed": true
   },
   "outputs": [],
   "source": [
    "bndMTL = 'bndpoly_mtl'\n",
    "bndMHW = 'bndpoly_mhw'\n",
    "bndpoly = 'bndpoly'\n",
    "print(\"Creating the MTL contour polgon from the DEM...\")\n",
    "RasterToLandPerimeter(elevGrid, bndMTL, MTL)  # Polygon of MTL contour\n",
    "print(\"Creating the MHW contour polgon from the DEM...\")\n",
    "RasterToLandPerimeter(elevGrid, bndMHW, MHW)  # Polygon of MHW contour"
   ]
  },
  {
   "cell_type": "markdown",
   "metadata": {},
   "source": [
    "*__Requires display in GIS__*"
   ]
  },
  {
   "cell_type": "code",
   "execution_count": null,
   "metadata": {
    "scrolled": true
   },
   "outputs": [],
   "source": [
    "print(\"Combining the two polygons...\")\n",
    "bndpoly = fwa.CombineShorelinePolygons(bndMTL, bndMHW, inletLines, ShorelinePts, bndpoly)"
   ]
  },
  {
   "cell_type": "markdown",
   "metadata": {},
   "source": [
    "Once the features to delete are selected, either delete in the GIS or run the code.\n",
    "__Do not:__ Select the features in ArcGIS and then run DeleteFeatures from here. That will delete the entire feature class. "
   ]
  },
  {
   "cell_type": "code",
   "execution_count": null,
   "metadata": {},
   "outputs": [],
   "source": [
    "# Change bndpoly to match the layer name before running.\n",
    "bndpoly = bndpoly\n",
    "arcpy.DeleteFeatures_management(bndpoly)"
   ]
  },
  {
   "cell_type": "markdown",
   "metadata": {},
   "source": [
    "The next step snaps the boundary polygon to the shoreline points anywhere they don't already match and as long as as they are within 25 m of each other. "
   ]
  },
  {
   "cell_type": "code",
   "execution_count": null,
   "metadata": {},
   "outputs": [],
   "source": [
    "bndpoly = 'bndpoly'\n",
    "barrierBoundary = fwa.NewBNDpoly(bndpoly, ShorelinePts, barrierBoundary, '25 METERS', '50 METERS')\n",
    "print(\"Created: '{}'\".format(barrierBoundary))"
   ]
  },
  {
   "cell_type": "code",
   "execution_count": null,
   "metadata": {
    "collapsed": true
   },
   "outputs": [],
   "source": [
    "shoreline = fwa.CreateShoreBetweenInlets(barrierBoundary, inletLines, shoreline, \n",
    "                                         ShorelinePts, proj_code)"
   ]
  },
  {
   "cell_type": "markdown",
   "metadata": {},
   "source": [
    "After this step, you'll want to make sure the shoreline looks okay. There should be only one line segment for each stretch of shore between two inlets. Segments may be incorrectly deleted if the shoreline points are missing in the area. Segments may be incorrectly preserved if they are intersect a shoreline point. To rectify, either perform manual editing or rerun this code with modifications. "
   ]
  },
  {
   "cell_type": "markdown",
   "metadata": {},
   "source": [
    "## Transects\n",
    "### Extended transects\n",
    "\n",
    "Create extendedTrans, NASC transects for the study area extended to cover the island, with gaps filled, and sorted in the field sort_ID.\n",
    "\n",
    "#### 1. Extend and Copy only the geometry of transects to use as material for filling gaps"
   ]
  },
  {
   "cell_type": "code",
   "execution_count": 4,
   "metadata": {
    "scrolled": false
   },
   "outputs": [
    {
     "data": {
      "text/plain": [
       "('\\\\\\\\Mac\\\\stor\\\\Projects\\\\TransectExtraction\\\\Fisherman2014\\\\Fisherman2014.gdb',\n",
       " 'DelmarvaS_SVA_LT')"
      ]
     },
     "execution_count": 4,
     "metadata": {},
     "output_type": "execute_result"
    }
   ],
   "source": [
    "orig_trans = os.path.join(arcpy.env.workspace, 'DelmarvaS_SVA_LT')"
   ]
  },
  {
   "cell_type": "code",
   "execution_count": 7,
   "metadata": {},
   "outputs": [
    {
     "name": "stdout",
     "output_type": "stream",
     "text": [
      "Need to remove extra transects? 'y' if barrierBoundary exists and should be used to select. y\n",
      "\\\\Mac\\stor\\Projects\\TransectExtraction\\Fisherman2014\\Fisherman2014.gdb\\DelmarvaS_SVA_LT is already projected in UTM.\n",
      "MANUALLY: use groups of existing transects in new FC '\\\\Mac\\stor\\Projects\\TransectExtraction\\Fisherman2014\\scratch.gdb\\trans_presort_temp' to fill gaps.\n"
     ]
    }
   ],
   "source": [
    "# Delete transects over 200 m outside of the study area.\n",
    "if input(\"Need to remove extra transects? 'y' if barrierBoundary exists and should be used to select. \") == 'y':\n",
    "    fwa.RemoveTransectsOutsideBounds(orig_trans, barrierBoundary)\n",
    "fwa.ExtendLine(orig_trans, trans_extended, extendlength, proj_code)\n",
    "fwa.CopyAndWipeFC(trans_extended, trans_presort, ['sort_ID'])\n",
    "print(\"MANUALLY: use groups of existing transects in new FC '{}' to fill gaps.\".format(trans_presort))"
   ]
  },
  {
   "cell_type": "markdown",
   "metadata": {},
   "source": [
    "*__Requires manipulation in GIS__*\n",
    "\n",
    "1. Edit the trans_presort_temp feature class. __Move and rotate__ groups of transects to fill in gaps that are greater than 50 m alongshore. There is no need to preserve the original transects, but avoid overlapping the transects with each other and with the originals. Do not move any transects slightly. If they are moved, they will not be deleted in the next stage. If you slightly move any, you can either undo or delete that line entirely."
   ]
  },
  {
   "cell_type": "code",
   "execution_count": 8,
   "metadata": {
    "scrolled": true
   },
   "outputs": [
    {
     "data": {
      "text/plain": [
       "'\\\\\\\\Mac\\\\stor\\\\Projects\\\\TransectExtraction\\\\Fisherman2014\\\\scratch.gdb\\\\trans_presort_temp'"
      ]
     },
     "execution_count": 8,
     "metadata": {},
     "output_type": "execute_result"
    }
   ],
   "source": [
    "fwa.RemoveDuplicates(trans_presort, trans_extended, barrierBoundary)"
   ]
  },
  {
   "cell_type": "markdown",
   "metadata": {},
   "source": [
    "#### 2. Sort the transects.\n",
    "\n",
    "First set the sorting parameters. If the shoreline curves, the GIS will not correctly establish the alongshore order by simple ordering from the identified sort_corner so you need to identify different groups of transects for sorting. If this is the case, answer yes to the next prompt."
   ]
  },
  {
   "cell_type": "code",
   "execution_count": 6,
   "metadata": {},
   "outputs": [
    {
     "name": "stdout",
     "output_type": "stream",
     "text": [
      "Do we need to sort the transects in batches to preserve the order? (y/n) y\n",
      "MANUALLY: Add features to sort_lines. Indicate the order of use in 'sort' and the sort corner in 'sort_corn'.\n"
     ]
    }
   ],
   "source": [
    "sort_lines = fwa.SortTransectPrep(spatialref=utmSR)"
   ]
  },
  {
   "cell_type": "markdown",
   "metadata": {},
   "source": [
    "*__Requires manipulation in GIS__*\n",
    "\n",
    "The last step generated an empty sort lines feature class if you indicated that transects need to be sorted in batches to preserve the order. Now, the user creates lines that will be used to spatially sort transects in groups. \n",
    "\n",
    "For each group of transects:\n",
    "\n",
    "1. __Create a new line__ in 'sort_lines' that intersects all transects in the group. The transects intersected by the line will be sorted independently before being appended to the preceding groups.  (*__add example figure__*)\n",
    "2. __Assign values__ for the fields 'sort' and 'sort_corner.' 'sort' indicates the order in which the line should be used and 'sort_corn' indicates the corner from which to perform the spatial sort ('LL', 'UL', etc.).\n",
    "3. Run the following code to create a new sorted transect file.\n"
   ]
  },
  {
   "cell_type": "code",
   "execution_count": null,
   "metadata": {},
   "outputs": [],
   "source": [
    "fwa.SortTransectsFromSortLines(trans_presort, extendedTrans, sort_lines, tID_fld, sort_corner=sort_corner)"
   ]
  },
  {
   "cell_type": "markdown",
   "metadata": {},
   "source": [
    "### Tidy the extended transects\n",
    "\n",
    "*__Requires manipulation in GIS__*\n",
    "\n",
    "Overlapping transects cause problems during conversion to 5-m points and to rasters. We create a separate feature class with the 'tidied' transects, in which the lines don't overlap. This is largely a manually process with the following steps: \n",
    "\n",
    "1. __Select__ transects to be used to split other transects. Prioritize transects that were originally from NASC, those with dune points, and those that are oriented perpendicular to shore.\n",
    "2. Use the __Copy Features__ geoprocessing tool to copy only the selected transects into a new feature class. If desired, here is the code that could be used to copy the selected features and clear the selection:\n",
    "    ```python\n",
    "    arcpy.CopyFeatures_management(extendedTrans, overlapTrans_lines)\n",
    "    arcpy.SelectLayerByAttribute_management(extendedTrans, \"CLEAR_SELECTION\")\n",
    "    ```\n",
    "3. Run the code below to split the transects at the selected lines of overlap."
   ]
  },
  {
   "cell_type": "code",
   "execution_count": null,
   "metadata": {},
   "outputs": [],
   "source": [
    "overlapTrans_lines = os.path.join(arcpy.env.scratchGDB, overlapTrans_lines)\n",
    "if not arcpy.Exists(overlapTrans_lines):\n",
    "    overlapTrans_lines = input(\"Filename of the feature class of only 'boundary' transects: \")\n",
    "arcpy.Intersect_analysis([extendedTrans, overlapTrans_lines], trans_x,\n",
    "                         'ALL', output_type=\"POINT\")\n",
    "arcpy.SplitLineAtPoint_management(extendedTrans, trans_x, extTrans_tidy)"
   ]
  },
  {
   "cell_type": "markdown",
   "metadata": {},
   "source": [
    "Delete the extraneous segments manually. Recommended:\n",
    "\n",
    "1. Using __Select with Line__ draw a line to the appropriate side of the boundary transects. This will select the line segments that need to be deleted. \n",
    "2. __Delete__ the selected lines.\n",
    "3. Remove any remaining overlaps entirely by hand. Use the __Split Line__ tool in the Editing toolbar to split lines to be shortened at the points of overlap. Then delete the remnant sections. "
   ]
  }
 ],
 "metadata": {
  "kernelspec": {
   "display_name": "Python 3",
   "language": "python",
   "name": "python3"
  },
  "language_info": {
   "codemirror_mode": {
    "name": "ipython",
    "version": 3
   },
   "file_extension": ".py",
   "mimetype": "text/x-python",
   "name": "python",
   "nbconvert_exporter": "python",
   "pygments_lexer": "ipython3",
   "version": "3.5.3"
  }
 },
 "nbformat": 4,
 "nbformat_minor": 2
}
