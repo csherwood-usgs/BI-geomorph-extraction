{
 "cells": [
  {
   "cell_type": "markdown",
   "metadata": {},
   "source": [
    "# Pre-process input data for coastal variable extraction\n",
    "\n",
    "Author: Emily Sturdivant; esturdivant@usgs.gov\n",
    "\n",
    "***\n",
    "\n",
    "You must run this notebook within the ArcGIS Pro conda environment. To do so, type the following in your command prompt (assuming it has the default set-up and substituting path\\to\\dir with the location of the repository):\n",
    "\n",
    "```bat\n",
    "cd path\\to\\dir\\BI-geomorph-extraction\n",
    "\\ArcGIS\\Pro\\bin\\Python\\Scripts\\proenv\n",
    "jupyter notebook\n",
    "```\n",
    "\n",
    "## Pre-processing steps\n",
    "\n",
    "1. Pre-created geomorphic features: dunes, shoreline points, armoring.\n",
    "2. Inlets\n",
    "3. Shoreline\n",
    "4. Transects - extend and sort\n",
    "5. Transects - tidy"
   ]
  },
  {
   "cell_type": "markdown",
   "metadata": {},
   "source": [
    "#### Import modules\n",
    "\n",
    "Sometimes the user needs to run the code through the ArcPy console (when it involves selecting layers). --- an alternative may be to use the Pro version of the mapping toolbox and say current map document... --- In this case, we need to make sure that ArcGIS can find this package. "
   ]
  },
  {
   "cell_type": "code",
   "execution_count": 1,
   "metadata": {
    "scrolled": true
   },
   "outputs": [
    {
     "name": "stdout",
     "output_type": "stream",
     "text": [
      "Module path is: C:\\Users\\esturdivant\\Code\\BI-geomorph-extraction\\CoastalVarExtractor\n"
     ]
    }
   ],
   "source": [
    "import os\n",
    "import sys\n",
    "import time\n",
    "import shutil\n",
    "import pandas as pd\n",
    "import numpy as np\n",
    "import matplotlib.pyplot as plt\n",
    "import arcpy\n",
    "if os.path.basename(os.getcwd()) == 'CoastalVarExtractor':\n",
    "    print('Module path is: {}'.format(os.getcwd()))\n",
    "    import CoastalVarExtractor.functions_warcpy as fwa"
   ]
  },
  {
   "cell_type": "code",
   "execution_count": 2,
   "metadata": {
    "collapsed": true
   },
   "outputs": [],
   "source": [
    "mod_path = r\"C:\\Users\\esturdivant\\Code\\BI-geomorph-extraction\" # replace with path to module\n",
    "sys.path.append(mod_path)\n",
    "import CoastalVarExtractor.functions_warcpy as fwa"
   ]
  },
  {
   "cell_type": "markdown",
   "metadata": {},
   "source": [
    "## Initialize variables\n",
    "\n",
    "Based on the project directory, and the site and year you have input, setvars.py will set a bunch of variables as the names of folders, files, and fields. 1) set-up the project folder and paths: "
   ]
  },
  {
   "cell_type": "code",
   "execution_count": null,
   "metadata": {
    "collapsed": true
   },
   "outputs": [],
   "source": []
  },
  {
   "cell_type": "code",
   "execution_count": 3,
   "metadata": {},
   "outputs": [
    {
     "name": "stdout",
     "output_type": "stream",
     "text": [
      "setvars.py initialized variables.\n"
     ]
    }
   ],
   "source": [
    "from CoastalVarExtractor.setvars import *\n",
    "from CoastalVarExtractor.configmap import *\n",
    "proj_dir = r\"\\\\Mac\\stor\\Projects\\TransectExtraction\\Fisherman2014\"\n",
    "site = \"Fisherman\"\n",
    "year = \"2014\"\n",
    "SiteYear_strings = siteyear[site+year] # get siteyear dict from configmap\n",
    "home = os.path.join(proj_dir, '{site}{year}.gdb'.format(**SiteYear_strings))\n",
    "arcpy.env.workspace = home\n",
    "arcpy.env.scratchWorkspace = proj_dir"
   ]
  },
  {
   "cell_type": "code",
   "execution_count": 4,
   "metadata": {
    "collapsed": true
   },
   "outputs": [],
   "source": [
    "extendedTrans = 'extTrans'\n",
    "inletLines = 'inletLines'\n",
    "ShorelinePts = 'SLpts'\n",
    "dlPts = 'DLpts'\n",
    "dhPts = 'DHpts'\n",
    "armorLines = 'armorLines'\n",
    "elevGrid = 'DEM'\n",
    "elevGrid_5m = 'DEM_5m'\n",
    "\n",
    "extendedTrans = os.path.join(home, 'extTrans')\n",
    "inletLines = os.path.join(home, 'inletLines')\n",
    "ShorelinePts = os.path.join(home, 'SLpts')\n",
    "dlPts = os.path.join(home, 'DLpts')\n",
    "dhPts = os.path.join(home, 'DHpts')\n",
    "armorLines = os.path.join(home, 'armorLines')\n",
    "elevGrid = os.path.join(home, 'DEM')\n",
    "elevGrid_5m = os.path.join(home, 'DEM_5m')"
   ]
  },
  {
   "cell_type": "markdown",
   "metadata": {},
   "source": [
    "## Dunes and armoring <a name=\"geofeatures\"></a>\n",
    "Display the points and the DEM in a GIS to check for irregularities. For example, if shoreline points representing a distance less than X m are visually offset from the general shoreline, they should likely be removed. Another red flag is when the positions of dlows and dhighs in relation to the shore are illogical, i.e. dune crests are seaward of dune toes. \n",
    "\n",
    "#### Replace fill values with Null. "
   ]
  },
  {
   "cell_type": "code",
   "execution_count": null,
   "metadata": {
    "collapsed": true
   },
   "outputs": [],
   "source": [
    "fwa.ReplaceValueInFC(dhPts, oldvalue=fill, newvalue=None, fields=[\"dhigh_z\"])      # Dhighs\n",
    "fwa.ReplaceValueInFC(dlPts, oldvalue=fill, newvalue=None, fields=[\"dlow_z\"])       # Dlows\n",
    "fwa.ReplaceValueInFC(ShorelinePts, oldvalue=fill, newvalue=None, fields=[\"slope\"]) # Shoreline"
   ]
  },
  {
   "cell_type": "markdown",
   "metadata": {},
   "source": [
    "#### Armoring\n",
    "If the dlows do not capture the entire top-of-beach due to atypical formations caused by anthropogenic modification, you may need to digitize the beachfront armoring. The next code block will generate an empty feature class. Refer to the DEM and orthoimagery. If there is no armoring in the study area, continue. If there is armoring, use the Editing toolbar to add lines to the feature class that trace instances of armoring. Common manifestations of what we call armoring are sandfencing and sandbagging and concrete seawalls. \n",
    "\n",
    "*__Requires manipulation in GIS__*"
   ]
  },
  {
   "cell_type": "code",
   "execution_count": null,
   "metadata": {
    "collapsed": true
   },
   "outputs": [],
   "source": [
    "arcpy.CreateFeatureclass_management(home, armorLines, 'POLYLINE', spatial_reference=utmSR)\n",
    "print(\"{} created. Now manually digitize the shorefront armoring.\".format(armorLines))"
   ]
  },
  {
   "cell_type": "markdown",
   "metadata": {},
   "source": [
    "## Inlets\n",
    "We also need to manually digitize inlets if an inlet delineation does not already exist. To do, the code will produce the feature class. After which use the Editing toolbar to create a line when the island shore meets a tidal inlet. If the study area includes both sides of an inlet, that inlet will be represented by two lines. The inlet lines are use to define the bounds of the oceanside shore, which is also considered the point where the oceanside shore meets the bayside. Inlet lines must intersect the MHW contour. \n",
    "\n",
    "*__Requires manipulation in GIS__*"
   ]
  },
  {
   "cell_type": "code",
   "execution_count": null,
   "metadata": {
    "collapsed": true
   },
   "outputs": [],
   "source": [
    "# manually create lines that correspond to end of land and cross the MHW line (use bndpoly/DEM)\n",
    "arcpy.CreateFeatureclass_management(home, inletLines, 'POLYLINE', spatial_reference=utmSR)\n",
    "print(\"{} created. Now we'll stop for you to manually create lines at each inlet.\".format(inletLines))"
   ]
  },
  {
   "cell_type": "markdown",
   "metadata": {},
   "source": [
    "## Shoreline\n",
    "The shoreline is produced through a combination of the DEM and the shoreline points. The first step converts the DEM to both MTL and MHW contour polygons. Those polygons are combined to produce the full shoreline, which is considered to fall at MHW on the oceanside and MTL on the bayside (to include partially submerged wetland). User input is required to identify only the areas within the study area and eliminate isolated landmasses that are not. \n",
    "\n",
    "*__Requires display in GIS__*"
   ]
  },
  {
   "cell_type": "code",
   "execution_count": null,
   "metadata": {},
   "outputs": [],
   "source": [
    "bndpoly = fwa.DEMtoFullShorelinePoly(elevGrid_5m, MTL, MHW, inletLines, ShorelinePts)\n",
    "print('Select features from {} that should not be included in {}'.format(bndpoly, barrierBoundary))"
   ]
  },
  {
   "cell_type": "code",
   "execution_count": null,
   "metadata": {
    "collapsed": true
   },
   "outputs": [],
   "source": [
    "bndMTL = 'bndpoly_mtl'\n",
    "bndMHW = 'bndpoly_mhw'\n",
    "bndpoly = 'bndpoly'\n",
    "print(\"Creating the MTL contour polgon from the DEM...\")\n",
    "RasterToLandPerimeter(elevGrid, bndMTL, MTL)  # Polygon of MTL contour\n",
    "print(\"Creating the MHW contour polgon from the DEM...\")\n",
    "RasterToLandPerimeter(elevGrid, bndMHW, MHW)  # Polygon of MHW contour"
   ]
  },
  {
   "cell_type": "code",
   "execution_count": null,
   "metadata": {
    "scrolled": true
   },
   "outputs": [],
   "source": [
    "print(\"Combining the two polygons...\")\n",
    "bndpoly = fwa.CombineShorelinePolygons(bndMTL, bndMHW, inletLines, ShorelinePts, bndpoly)"
   ]
  },
  {
   "cell_type": "markdown",
   "metadata": {},
   "source": [
    "Once the features to delete are selected, either delete in the GIS or run the code.\n",
    "__Do not:__ Select the features in ArcGIS and then run DeleteFeatures from here. That will delete the entire feature class. "
   ]
  },
  {
   "cell_type": "code",
   "execution_count": null,
   "metadata": {},
   "outputs": [],
   "source": [
    "# Change bndpoly to match the layer name before running.\n",
    "bndpoly = bndpoly\n",
    "arcpy.DeleteFeatures_management(bndpoly)"
   ]
  },
  {
   "cell_type": "markdown",
   "metadata": {},
   "source": [
    "The next step snaps the boundary polygon to the shoreline points anywhere they don't already match and as long as as they are within 25 m of each other. "
   ]
  },
  {
   "cell_type": "code",
   "execution_count": null,
   "metadata": {},
   "outputs": [],
   "source": [
    "bndpoly = 'bndpoly'\n",
    "barrierBoundary = fwa.NewBNDpoly(bndpoly, ShorelinePts, barrierBoundary, '25 METERS', '50 METERS')\n",
    "print(\"Created: '{}'\".format(barrierBoundary))"
   ]
  },
  {
   "cell_type": "code",
   "execution_count": 5,
   "metadata": {},
   "outputs": [
    {
     "name": "stdout",
     "output_type": "stream",
     "text": [
      "Preserving only those line segments that intersect shoreline points...\n",
      "Dissolving the line to create Fisherman2014_ShoreBetweenInlets...\n"
     ]
    }
   ],
   "source": [
    "shoreline = fwa.CreateShoreBetweenInlets(barrierBoundary, inletLines, shoreline, \n",
    "                                         ShorelinePts, proj_code)"
   ]
  },
  {
   "cell_type": "markdown",
   "metadata": {},
   "source": [
    "After this step, you'll want to make sure the shoreline looks okay. There should be only one line segment for each stretch of shore between two inlets. Segments may be incorrectly deleted if the shoreline points are missing in the area. Segments may be incorrectly preserved if they are intersect a shoreline point. To rectify, either perform manual editing or rerun this code with modifications. "
   ]
  },
  {
   "cell_type": "markdown",
   "metadata": {},
   "source": [
    "## Transects\n",
    "### Extended transects\n",
    "\n",
    "Create extendedTrans, LT transects with gaps filled and lines extended\n",
    "\n",
    "#### 1. Extend and Copy only the geometry of transects to use as material for filling gaps"
   ]
  },
  {
   "cell_type": "code",
   "execution_count": null,
   "metadata": {
    "collapsed": true
   },
   "outputs": [],
   "source": [
    "fwa.ExtendLine(fc=orig_trans, new_fc=trans_extended, distance=extendlength, proj_code=proj_code)\n",
    "fwa.CopyAndWipeFC(trans_extended, trans_presort, ['sort_ID'])\n",
    "print(\"MANUALLY: use groups of existing transects in new FC '{}' to fill gaps.\".format(trans_presort))"
   ]
  },
  {
   "cell_type": "markdown",
   "metadata": {},
   "source": [
    "*__Requires manipulation in GIS__*\n",
    "\n",
    "Manually use groups of existing transects in the new FC to fill gaps. Avoid overlapping transects as much as possible. The new FC is only for use as spatial filler. As a result, the attribute values don't matter and there is no need to preserve the original transects (i.e. you can simply move transects instead of duplicating them). However, do not slightly move any transects. If they are moved, they will not be deleted in the next stage. If you slightly move any, you can either undo or delete that line entirely.\n",
    "\n",
    "*__PrepTransects_part2 uses SelectLayerByLocation so it must be executed in the ArcPy console.__*"
   ]
  },
  {
   "cell_type": "code",
   "execution_count": null,
   "metadata": {
    "collapsed": true
   },
   "outputs": [],
   "source": [
    "fwa.PrepTransects_part2(trans_presort, trans_extended, barrierBoundary)"
   ]
  },
  {
   "cell_type": "markdown",
   "metadata": {},
   "source": [
    "#### 2. Sort the transects.\n",
    "\n",
    "First set the sorting parameters. If the shoreline curves, the GIS will not correctly establish the alongshore order by simple ordering from the identified sort_corner so you need to identify different groups of transects for sorting. If this is the case, answer yes to the next prompt."
   ]
  },
  {
   "cell_type": "code",
   "execution_count": null,
   "metadata": {
    "collapsed": true
   },
   "outputs": [],
   "source": [
    "multi_sort = input(\"Do we need to sort the transects in batches to preserve the order? (y/n) \") \n",
    "if multi_sort == 'y':\n",
    "    arcpy.CreateFeatureclass_management(trans_dir, sort_lines, \"POLYLINE\", spatial_reference=utmSR)\n",
    "    print(\"MANUALLY: Add features to sort_lines. Add the features in the \\\n",
    "    order they should be sorted and indicate the sort corner in the field sort_corn.\")\n",
    "else:\n",
    "    sort_lines = []\n",
    "    # Corner from which to start sorting, LL = lower left, etc. \n",
    "    sort_corner = input(\"Sort corner (LL, LR, UL, UR): \")  "
   ]
  },
  {
   "cell_type": "markdown",
   "metadata": {},
   "source": [
    "*__Requires manipulation in GIS__*\n",
    "\n",
    "If the transects need to be sorted in batches to preserve the order, then we generated an empty sort lines feature class. Add lines to the FC that will be used to iteratively select the intersecting transects and order them based on the sort corner you will indicate next. Add fields sort and sort_corn to the FC and assign values to order the transects. sort_corn indicates the sort corner for the group pertaining to each line. \n",
    "\n",
    "*__SortTransectsFromSortLines uses SelectLayerByLocation so it must be executed in the ArcPy console.__*"
   ]
  },
  {
   "cell_type": "code",
   "execution_count": null,
   "metadata": {
    "collapsed": true
   },
   "outputs": [],
   "source": [
    "fwa.SortTransectsFromSortLines(trans_presort, extendedTrans, sort_lines, \n",
    "                               sortfield=tID_fld, sort_corner=sort_corner)\n",
    "# # Clean up OBJECTID\n",
    "# if len(arcpy.ListFields(extendedTrans, 'OBJECTID*')) == 2:\n",
    "#     fwa.ReplaceFields(extendedTrans, {'OBJECTID': 'OID@'})"
   ]
  },
  {
   "cell_type": "markdown",
   "metadata": {},
   "source": [
    "### Tidy the extended transects\n",
    "\n",
    "If extended transects overlap, they need to be semi-manually adjusted ('tidied') so that there is no overlap. Overlapping transects cause problems when splitting the transects into 5-m points and when converting the transects to rasters. The user needs to select the boundary lines between groups of overlapping transects. \n",
    "\n",
    "*__Requires manipulation in GIS__*\n",
    "\n",
    "The selected transects are copied into a separate FC and used to split the other transects at the intersection points. Once the lines are split, the user manually deletes the undesired segments. These will be the ones that are to the bayside of the boundary lines."
   ]
  },
  {
   "cell_type": "code",
   "execution_count": null,
   "metadata": {
    "collapsed": true
   },
   "outputs": [],
   "source": [
    "# Copy only the selected lines\n",
    "arcpy.CopyFeatures_management(orig_extTrans, overlapTrans_lines)          # copy selected transects\n",
    "arcpy.SelectLayerByAttribute_management(orig_extTrans, \"CLEAR_SELECTION\") # clear the selection\n",
    "\n",
    "# Split transects at the lines of overlap.\n",
    "arcpy.Intersect_analysis([orig_extTrans, overlapTrans_lines], trans_x,\n",
    "                         'ALL', output_type=\"POINT\")\n",
    "arcpy.SplitLineAtPoint_management(orig_extTrans, trans_x, extTrans_tidy)\n",
    "print(\"MANUALLY: Select transect segments to be deleted. \")"
   ]
  },
  {
   "cell_type": "markdown",
   "metadata": {},
   "source": [
    "Resume after manual selection or delete manually."
   ]
  },
  {
   "cell_type": "code",
   "execution_count": null,
   "metadata": {
    "collapsed": true
   },
   "outputs": [],
   "source": [
    "arcpy.DeleteFeatures_management(extTrans_tidy)\n",
    "print(\"Pre-processing completed.\")"
   ]
  }
 ],
 "metadata": {
  "kernelspec": {
   "display_name": "Python 3",
   "language": "python",
   "name": "python3"
  },
  "language_info": {
   "codemirror_mode": {
    "name": "ipython",
    "version": 3
   },
   "file_extension": ".py",
   "mimetype": "text/x-python",
   "name": "python",
   "nbconvert_exporter": "python",
   "pygments_lexer": "ipython3",
   "version": "3.5.3"
  }
 },
 "nbformat": 4,
 "nbformat_minor": 2
}
