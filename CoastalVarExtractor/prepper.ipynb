{
 "cells": [
  {
   "cell_type": "markdown",
   "metadata": {},
   "source": [
    "### Import modules"
   ]
  },
  {
   "cell_type": "code",
   "execution_count": 1,
   "metadata": {
    "collapsed": true
   },
   "outputs": [],
   "source": [
    "import os\n",
    "import sys\n",
    "import time\n",
    "import shutil\n",
    "import pandas as pd\n",
    "import numpy as np\n",
    "import matplotlib.pyplot as plt\n",
    "import arcpy\n",
    "import functions_warcpy as fwa"
   ]
  },
  {
   "cell_type": "markdown",
   "metadata": {},
   "source": [
    "### Initialize variables"
   ]
  },
  {
   "cell_type": "code",
   "execution_count": 2,
   "metadata": {},
   "outputs": [
    {
     "name": "stdout",
     "output_type": "stream",
     "text": [
      "Path to project directory (e.g. \\\\Mac\\stor\\Projects\\TransectExtraction\\FireIsland2014): \\\\Mac\\stor\\Projects\\TransectExtraction\\FireIsland2014\n"
     ]
    }
   ],
   "source": [
    "proj_dir = input(\"Path to project directory (e.g. \\\\\\Mac\\stor\\Projects\\TransectExtraction\\FireIsland2014): \")"
   ]
  },
  {
   "cell_type": "code",
   "execution_count": 3,
   "metadata": {},
   "outputs": [
    {
     "name": "stdout",
     "output_type": "stream",
     "text": [
      "site: FireIsland\n",
      "year: 2014\n"
     ]
    }
   ],
   "source": [
    "site = input(\"site: \")\n",
    "year = input(\"year: \")"
   ]
  },
  {
   "cell_type": "code",
   "execution_count": 4,
   "metadata": {},
   "outputs": [],
   "source": [
    "from setvars import *"
   ]
  },
  {
   "cell_type": "markdown",
   "metadata": {},
   "source": [
    "## Dunes and armoring\n",
    "Display the points and the DEM in a GIS to check for irregularities. For example, if shoreline points representing a distance less than X m are visually offset from the general shoreline, they should likely be removed. Another red flag is when the positions of dlows and dhighs in relation to the shore are illogical, i.e. dune crests are seaward of dune toes. \n",
    "\n",
    "#### Replace fill values with Null. "
   ]
  },
  {
   "cell_type": "code",
   "execution_count": null,
   "metadata": {
    "collapsed": true
   },
   "outputs": [],
   "source": [
    "fwa.ReplaceValueInFC(dhPts, oldvalue=fill, newvalue=None, fields=[\"dhigh_z\"])      # Dhighs\n",
    "fwa.ReplaceValueInFC(dlPts, oldvalue=fill, newvalue=None, fields=[\"dlow_z\"])       # Dlows\n",
    "fwa.ReplaceValueInFC(ShorelinePts, oldvalue=fill, newvalue=None, fields=[\"slope\"]) # Shoreline"
   ]
  },
  {
   "cell_type": "markdown",
   "metadata": {},
   "source": [
    "#### Armoring\n",
    "If the dlows do not capture the entire top-of-beach due to atypical formations caused by anthropogenic modification, you may need to digitize the beachfront armoring. The next code block will generate an empty feature class. Refer to the DEM and orthoimagery. If there is no armoring in the study area, continue. If there is armoring, use the Editing toolbar to add lines to the feature class that trace instances of armoring. Common manifestations of what we call armoring are sandfencing and sandbagging and concrete seawalls. \n",
    "\n",
    "*__Requires manipulation in GIS__*"
   ]
  },
  {
   "cell_type": "code",
   "execution_count": null,
   "metadata": {
    "collapsed": true
   },
   "outputs": [],
   "source": [
    "arcpy.CreateFeatureclass_management(home, armorLines, 'POLYLINE', spatial_reference=utmSR)\n",
    "print(\"{} created. Now manually digitize the shorefront armoring.\".format(armorLines))"
   ]
  },
  {
   "cell_type": "markdown",
   "metadata": {},
   "source": [
    "## Inlets\n",
    "We also need to manually digitize inlets if an inlet delineation does not already exist. To do, the code will produce the feature class. After which use the Editing toolbar to create a line when the island shore meets a tidal inlet. If the study area includes both sides of an inlet, that inlet will be represented by two lines. The inlet lines are use to define the bounds of the oceanside shore, which is also considered the point where the oceanside shore meets the bayside. Inlet lines must intersect the MHW contour. \n",
    "\n",
    "*__Requires manipulation in GIS__*"
   ]
  },
  {
   "cell_type": "code",
   "execution_count": null,
   "metadata": {
    "collapsed": true
   },
   "outputs": [],
   "source": [
    "# manually create lines based on the boundary polygon that correspond to end of land and cross the MHW line\n",
    "arcpy.CreateFeatureclass_management(home, inletLines, 'POLYLINE', spatial_reference=utmSR)\n",
    "print(\"{} created. Now we'll stop for you to manually create lines at each inlet.\".format(inletLines))"
   ]
  },
  {
   "cell_type": "markdown",
   "metadata": {},
   "source": [
    "## Shoreline\n",
    "The shoreline is produced through a combination of the DEM and the shoreline points. The first step converts the DEM to both MTL and MHW contour polygons. Those polygons are combined to produce the full shoreline, which is considered to fall at MHW on the oceanside and MTL on the bayside (to include partially submerged wetland). User input is required to identify only the areas within the study area and eliminate isolated landmasses that are not. \n",
    "\n",
    "*__Requires display in GIS__*"
   ]
  },
  {
   "cell_type": "code",
   "execution_count": null,
   "metadata": {
    "collapsed": true
   },
   "outputs": [],
   "source": [
    "#%% BOUNDARY POLYGON\n",
    "# Inlet lines must intersect MHW\n",
    "bndpoly = fwa.DEMtoFullShorelinePoly(elevGrid_5m, '{site}{year}'.format(**SiteYear_strings), MTL, MHW, inletLines, ShorelinePts)\n",
    "# Eliminate any remnant polygons on oceanside\n",
    "print('Select features from {} that should not be included in {}'.format(bndpoly, barrierBoundary))"
   ]
  },
  {
   "cell_type": "markdown",
   "metadata": {},
   "source": [
    "Once the features to delete are selected, either delete in the GIS or run the code."
   ]
  },
  {
   "cell_type": "code",
   "execution_count": null,
   "metadata": {
    "collapsed": true
   },
   "outputs": [],
   "source": [
    "arcpy.DeleteFeatures_management(bndpoly)"
   ]
  },
  {
   "cell_type": "markdown",
   "metadata": {},
   "source": [
    "The next step snaps the boundary polygon to the shoreline points anywhere they don't already match and as long as as they are within 25 m of each other. "
   ]
  },
  {
   "cell_type": "code",
   "execution_count": null,
   "metadata": {
    "collapsed": true
   },
   "outputs": [],
   "source": [
    "barrierBoundary = fwa.NewBNDpoly(bndpoly, ShorelinePts, barrierBoundary, '25 METERS', '50 METERS')\n",
    "shoreline = fwa.CreateShoreBetweenInlets(barrierBoundary, inletLines, shoreline, ShorelinePts, proj_code)"
   ]
  },
  {
   "cell_type": "markdown",
   "metadata": {},
   "source": [
    "## Transects\n",
    "### Extended transects\n",
    "\n",
    "Create extendedTrans, LT transects with gaps filled and lines extended\n",
    "\n",
    "Set temp filenames."
   ]
  },
  {
   "cell_type": "code",
   "execution_count": 8,
   "metadata": {},
   "outputs": [
    {
     "ename": "OSError",
     "evalue": "\"FireIsland_LTorig\" does not exist",
     "output_type": "error",
     "traceback": [
      "\u001b[1;31m---------------------------------------------------------------------------\u001b[0m",
      "\u001b[1;31mOSError\u001b[0m                                   Traceback (most recent call last)",
      "\u001b[1;32m<ipython-input-8-4146c7d8d448>\u001b[0m in \u001b[0;36m<module>\u001b[1;34m()\u001b[0m\n\u001b[0;32m     13\u001b[0m \u001b[1;33m\u001b[0m\u001b[0m\n\u001b[0;32m     14\u001b[0m \u001b[1;31m#%% 1. Extend and Copy only the geometry of transects to use as material for filling gaps\u001b[0m\u001b[1;33m\u001b[0m\u001b[1;33m\u001b[0m\u001b[0m\n\u001b[1;32m---> 15\u001b[1;33m \u001b[0mfwa\u001b[0m\u001b[1;33m.\u001b[0m\u001b[0mExtendLine\u001b[0m\u001b[1;33m(\u001b[0m\u001b[0mfc\u001b[0m\u001b[1;33m=\u001b[0m\u001b[0morig_trans\u001b[0m\u001b[1;33m,\u001b[0m \u001b[0mnew_fc\u001b[0m\u001b[1;33m=\u001b[0m\u001b[0mtrans_extended\u001b[0m\u001b[1;33m,\u001b[0m \u001b[0mdistance\u001b[0m\u001b[1;33m=\u001b[0m\u001b[0mextendlength\u001b[0m\u001b[1;33m,\u001b[0m \u001b[0mproj_code\u001b[0m\u001b[1;33m=\u001b[0m\u001b[0mproj_code\u001b[0m\u001b[1;33m)\u001b[0m\u001b[1;33m\u001b[0m\u001b[0m\n\u001b[0m\u001b[0;32m     16\u001b[0m \u001b[0mfwa\u001b[0m\u001b[1;33m.\u001b[0m\u001b[0mCopyAndWipeFC\u001b[0m\u001b[1;33m(\u001b[0m\u001b[0mtrans_extended\u001b[0m\u001b[1;33m,\u001b[0m \u001b[0mtrans_presort\u001b[0m\u001b[1;33m,\u001b[0m \u001b[1;33m[\u001b[0m\u001b[1;34m'sort_ID'\u001b[0m\u001b[1;33m]\u001b[0m\u001b[1;33m)\u001b[0m\u001b[1;33m\u001b[0m\u001b[0m\n\u001b[0;32m     17\u001b[0m \u001b[0mprint\u001b[0m\u001b[1;33m(\u001b[0m\u001b[1;34m\"MANUALLY: use groups of existing transects in new FC '{}' to fill gaps. Avoid overlapping transects as much as possible\"\u001b[0m\u001b[1;33m.\u001b[0m\u001b[0mformat\u001b[0m\u001b[1;33m(\u001b[0m\u001b[0mtrans_presort\u001b[0m\u001b[1;33m)\u001b[0m\u001b[1;33m)\u001b[0m\u001b[1;33m\u001b[0m\u001b[0m\n",
      "\u001b[1;32m~\\Code\\BI-geomorph-extraction\\CoastalVarExtractor\\functions_warcpy.py\u001b[0m in \u001b[0;36mExtendLine\u001b[1;34m(fc, new_fc, distance, proj_code)\u001b[0m\n\u001b[0;32m    283\u001b[0m             \u001b[1;32myield\u001b[0m \u001b[0mtotal\u001b[0m\u001b[1;33m\u001b[0m\u001b[0m\n\u001b[0;32m    284\u001b[0m     \u001b[1;31m# Project transects to UTM\u001b[0m\u001b[1;33m\u001b[0m\u001b[1;33m\u001b[0m\u001b[0m\n\u001b[1;32m--> 285\u001b[1;33m     \u001b[1;32mif\u001b[0m \u001b[1;32mnot\u001b[0m \u001b[0marcpy\u001b[0m\u001b[1;33m.\u001b[0m\u001b[0mDescribe\u001b[0m\u001b[1;33m(\u001b[0m\u001b[0mfc\u001b[0m\u001b[1;33m)\u001b[0m\u001b[1;33m.\u001b[0m\u001b[0mspatialReference\u001b[0m\u001b[1;33m.\u001b[0m\u001b[0mfactoryCode\u001b[0m \u001b[1;33m==\u001b[0m \u001b[0mproj_code\u001b[0m\u001b[1;33m:\u001b[0m\u001b[1;33m\u001b[0m\u001b[0m\n\u001b[0m\u001b[0;32m    286\u001b[0m         \u001b[0mprint\u001b[0m\u001b[1;33m(\u001b[0m\u001b[1;34m'Projecting {} to UTM'\u001b[0m\u001b[1;33m.\u001b[0m\u001b[0mformat\u001b[0m\u001b[1;33m(\u001b[0m\u001b[0mfc\u001b[0m\u001b[1;33m)\u001b[0m\u001b[1;33m)\u001b[0m\u001b[1;33m\u001b[0m\u001b[0m\n\u001b[0;32m    287\u001b[0m         \u001b[0marcpy\u001b[0m\u001b[1;33m.\u001b[0m\u001b[0mProject_management\u001b[0m\u001b[1;33m(\u001b[0m\u001b[0mfc\u001b[0m\u001b[1;33m,\u001b[0m \u001b[0mfc\u001b[0m\u001b[1;33m+\u001b[0m\u001b[1;34m'utm_temp'\u001b[0m\u001b[1;33m,\u001b[0m \u001b[0marcpy\u001b[0m\u001b[1;33m.\u001b[0m\u001b[0mSpatialReference\u001b[0m\u001b[1;33m(\u001b[0m\u001b[0mproj_code\u001b[0m\u001b[1;33m)\u001b[0m\u001b[1;33m)\u001b[0m  \u001b[1;31m# project to PCS\u001b[0m\u001b[1;33m\u001b[0m\u001b[0m\n",
      "\u001b[1;32mC:\\ArcGIS\\Pro\\Resources\\ArcPy\\arcpy\\__init__.py\u001b[0m in \u001b[0;36mDescribe\u001b[1;34m(value)\u001b[0m\n\u001b[0;32m   1221\u001b[0m          \u001b[0mvalue\u001b[0m\u001b[1;33m(\u001b[0m\u001b[0mString\u001b[0m\u001b[1;33m)\u001b[0m\u001b[1;33m:\u001b[0m\u001b[1;33m\u001b[0m\u001b[0m\n\u001b[0;32m   1222\u001b[0m        The specified data element or geoprocessing object to describe.\"\"\"\n\u001b[1;32m-> 1223\u001b[1;33m     \u001b[1;32mreturn\u001b[0m \u001b[0mgp\u001b[0m\u001b[1;33m.\u001b[0m\u001b[0mdescribe\u001b[0m\u001b[1;33m(\u001b[0m\u001b[0mvalue\u001b[0m\u001b[1;33m)\u001b[0m\u001b[1;33m\u001b[0m\u001b[0m\n\u001b[0m\u001b[0;32m   1224\u001b[0m \u001b[1;33m\u001b[0m\u001b[0m\n\u001b[0;32m   1225\u001b[0m \u001b[1;32mdef\u001b[0m \u001b[0mCreateObject\u001b[0m\u001b[1;33m(\u001b[0m\u001b[0mname\u001b[0m\u001b[1;33m,\u001b[0m \u001b[0moptions\u001b[0m\u001b[1;33m=\u001b[0m\u001b[1;32mNone\u001b[0m\u001b[1;33m)\u001b[0m\u001b[1;33m:\u001b[0m\u001b[1;33m\u001b[0m\u001b[0m\n",
      "\u001b[1;32mC:\\ArcGIS\\Pro\\Resources\\ArcPy\\arcpy\\geoprocessing\\_base.py\u001b[0m in \u001b[0;36mdescribe\u001b[1;34m(self, *args)\u001b[0m\n\u001b[0;32m    366\u001b[0m         \u001b[1;32mfrom\u001b[0m \u001b[0marcpy\u001b[0m\u001b[1;33m.\u001b[0m\u001b[0marcobjects\u001b[0m\u001b[1;33m.\u001b[0m\u001b[0marcobjectconversion\u001b[0m \u001b[1;32mimport\u001b[0m \u001b[0mconvertArcObjectToPythonObject\u001b[0m\u001b[1;33m\u001b[0m\u001b[0m\n\u001b[0;32m    367\u001b[0m         return convertArcObjectToPythonObject(\n\u001b[1;32m--> 368\u001b[1;33m                     self._gp.Describe(*gp_fixargs(args, True)))\n\u001b[0m\u001b[0;32m    369\u001b[0m     \u001b[1;32mdef\u001b[0m \u001b[0mcreateObject\u001b[0m\u001b[1;33m(\u001b[0m\u001b[0mself\u001b[0m\u001b[1;33m,\u001b[0m \u001b[1;33m*\u001b[0m\u001b[0margs\u001b[0m\u001b[1;33m)\u001b[0m\u001b[1;33m:\u001b[0m\u001b[1;33m\u001b[0m\u001b[0m\n\u001b[0;32m    370\u001b[0m         \u001b[1;34m\"\"\"GP function CreateObject\"\"\"\u001b[0m\u001b[1;33m\u001b[0m\u001b[0m\n",
      "\u001b[1;31mOSError\u001b[0m: \"FireIsland_LTorig\" does not exist"
     ]
    }
   ],
   "source": [
    "trans_presort = os.path.join(arcpy.env.scratchGDB, 'trans_presort_temp')\n",
    "trans_extended = os.path.join(arcpy.env.scratchGDB, 'trans_ext_temp')\n",
    "trans_sort_1 = os.path.join(arcpy.env.scratchGDB, 'trans_sort_temp')\n",
    "trans_x = os.path.join(arcpy.env.scratchGDB, 'overlap_points_temp')\n",
    "overlapTrans_lines = os.path.join(arcpy.env.scratchGDB, 'overlapTrans_lines_temp')\n",
    "sort_lines =  os.path.join(arcpy.env.scratchGDB, 'sort_lines')"
   ]
  },
  {
   "cell_type": "markdown",
   "metadata": {},
   "source": [
    "#### 1. Extend and Copy only the geometry of transects to use as material for filling gaps"
   ]
  },
  {
   "cell_type": "code",
   "execution_count": null,
   "metadata": {
    "collapsed": true
   },
   "outputs": [],
   "source": [
    "fwa.ExtendLine(fc=orig_trans, new_fc=trans_extended, distance=extendlength, proj_code=proj_code)\n",
    "fwa.CopyAndWipeFC(trans_extended, trans_presort, ['sort_ID'])\n",
    "print(\"MANUALLY: use groups of existing transects in new FC '{}' to fill gaps.\".format(trans_presort))"
   ]
  },
  {
   "cell_type": "markdown",
   "metadata": {},
   "source": [
    "*__Requires manipulation in GIS__*\n",
    "\n",
    "Manually use groups of existing transects in the new FC to fill gaps. Avoid overlapping transects as much as possible. The new FC is only for use as spatial filler. As a result, the attribute values don't matter and there is no need to preserve the original transects (i.e. you can simply move transects instead of duplicating them). However, do not slightly move any transects. If they are moved, they will not be deleted in the next stage. If you slightly move any, you can eithe undo or delete that line entirely."
   ]
  },
  {
   "cell_type": "markdown",
   "metadata": {},
   "source": [
    "#### 2. Automatically sort the transects.\n",
    "\n",
    "First set the sorting parameters. If the shoreline curves, the GIS will not correctly establish the alongshore order by simple ordering from the identified sort_corner so you need to identify different groups of transects for sorting. If this is the case, answer yes to the next prompt."
   ]
  },
  {
   "cell_type": "code",
   "execution_count": 25,
   "metadata": {},
   "outputs": [
    {
     "name": "stdout",
     "output_type": "stream",
     "text": [
      "Do we need to sort the transects in batches to preserve the order? (yes/no) yes\n",
      "Sort corner (LL, LR, UL, UR): LL\n"
     ]
    }
   ],
   "source": [
    "multi_sort = input(\"Do we need to sort the transects in batches to preserve the order? (yes/no) \") "
   ]
  },
  {
   "cell_type": "code",
   "execution_count": null,
   "metadata": {
    "collapsed": true
   },
   "outputs": [],
   "source": [
    "fwa.PrepTransects_part2(trans_presort, trans_extended, barrierBoundary)\n",
    "# Create lines to use to sort new transects\n",
    "if multi_sort == 'yes':\n",
    "    arcpy.CreateFeatureclass_management(trans_dir, sort_lines, \"POLYLINE\", spatial_reference=utmSR)\n",
    "    print(\"MANUALLY: Add features to sort_lines. Add the features in the order they should dictate sorting and indicate the sort corner in the field sort_corn.\")\n",
    "else:\n",
    "    sort_lines = []\n",
    "    sort_corner = input(\"Sort corner (LL, LR, UL, UR): \")   # Corner from which to start sorting, LL = lower left, etc. "
   ]
  },
  {
   "cell_type": "markdown",
   "metadata": {},
   "source": [
    "*__Requires manipulation in GIS__*\n",
    "\n",
    "If the transects need to be sorted in batches to preserve the order, then we generated an empty sort lines feature class. Add lines to the FC that will be used to iteratively select the intersecting transects and order them based on the sort corner you will indicate next. Add fields sort and sort_corn to the FC and assign values to order the transects. sort_corn indicates the sort corner for the group pertaining to each line. "
   ]
  },
  {
   "cell_type": "code",
   "execution_count": null,
   "metadata": {
    "collapsed": true
   },
   "outputs": [],
   "source": [
    "fwa.SortTransectsFromSortLines(trans_presort, extendedTrans, sort_lines, sortfield=tID_fld, sort_corner=sort_corner)\n",
    "# # Clean up OBJECTID\n",
    "# if len(arcpy.ListFields(extendedTrans, 'OBJECTID*')) == 2:\n",
    "#     fwa.ReplaceFields(extendedTrans, {'OBJECTID': 'OID@'})"
   ]
  },
  {
   "cell_type": "markdown",
   "metadata": {},
   "source": [
    "### Tidy extended transects\n",
    "\n",
    "If extended transects overlap, they need to be semi-manually adjusted ('tidied') so that there is no overlap. Overlapping transects cause problems when splitting the transects into 5-m points and when converting the transects to rasters. The user needs to select the boundary lines between groups of overlapping transects. \n",
    "\n",
    "*__Requires manipulation in GIS__*"
   ]
  },
  {
   "cell_type": "markdown",
   "metadata": {},
   "source": [
    "After the boundary lines have been selected, those lines are copied into a separate FC, which is then used to split the transects at the overlapping points. Once the lines are split, the user needs to manually delete the undesired pieces. These will be the ones that are to the bayside of the boundary lines."
   ]
  },
  {
   "cell_type": "code",
   "execution_count": null,
   "metadata": {
    "collapsed": true
   },
   "outputs": [],
   "source": [
    "# Copy only the selected lines\n",
    "arcpy.CopyFeatures_management(orig_extTrans, overlapTrans_lines)\n",
    "arcpy.SelectLayerByAttribute_management(orig_extTrans, \"CLEAR_SELECTION\")\n",
    "\n",
    "# Split transects at the lines of overlap.\n",
    "arcpy.Intersect_analysis([orig_extTrans, overlapTrans_lines], trans_x,\n",
    "                         'ALL', output_type=\"POINT\")\n",
    "arcpy.SplitLineAtPoint_management(orig_extTrans, trans_x, extTrans_tidy)\n",
    "print(\"MANUALLY: Select transect segments to be deleted. \")"
   ]
  },
  {
   "cell_type": "markdown",
   "metadata": {},
   "source": [
    "Resume after manual selection"
   ]
  },
  {
   "cell_type": "code",
   "execution_count": null,
   "metadata": {
    "collapsed": true
   },
   "outputs": [],
   "source": [
    "arcpy.DeleteFeatures_management(extTrans_tidy)\n",
    "print(\"Pre-processing completed.\")"
   ]
  }
 ],
 "metadata": {
  "kernelspec": {
   "display_name": "Python 3",
   "language": "python",
   "name": "python3"
  },
  "language_info": {
   "codemirror_mode": {
    "name": "ipython",
    "version": 3
   },
   "file_extension": ".py",
   "mimetype": "text/x-python",
   "name": "python",
   "nbconvert_exporter": "python",
   "pygments_lexer": "ipython3",
   "version": "3.5.3"
  }
 },
 "nbformat": 4,
 "nbformat_minor": 2
}
